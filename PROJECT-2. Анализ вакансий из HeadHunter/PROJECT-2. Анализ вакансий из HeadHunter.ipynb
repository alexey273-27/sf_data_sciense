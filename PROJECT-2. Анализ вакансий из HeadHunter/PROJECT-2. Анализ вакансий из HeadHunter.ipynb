{
  "cells": [
    {
      "cell_type": "markdown",
      "id": "42289889-bd57-434e-9637-d3e354756316",
      "metadata": {
        "id": "42289889-bd57-434e-9637-d3e354756316"
      },
      "source": [
        "<center> <img src = https://raw.githubusercontent.com/AndreyRysistov/DatasetsForPandas/main/hh%20label.jpg alt=\"drawing\" style=\"width:400px;\">"
      ]
    },
    {
      "cell_type": "markdown",
      "id": "829cb75b-f14e-4ba8-9195-7ba929a7d656",
      "metadata": {
        "id": "829cb75b-f14e-4ba8-9195-7ba929a7d656",
        "tags": []
      },
      "source": [
        "# <center> Проект: Анализ вакансий из HeadHunter\n",
        "   "
      ]
    },
    {
      "cell_type": "code",
      "execution_count": 1,
      "id": "dccfde33-2452-43fb-a8a5-5c6ebc02a71d",
      "metadata": {
        "id": "dccfde33-2452-43fb-a8a5-5c6ebc02a71d"
      },
      "outputs": [],
      "source": [
        "import pandas as pd\n",
        "import psycopg2\n",
        "import warnings\n",
        "warnings.filterwarnings('ignore', message = '.*SQLAlchemy connectable') "
      ]
    },
    {
      "cell_type": "code",
      "execution_count": 2,
      "id": "oVKH4ehvf8Ay",
      "metadata": {
        "id": "oVKH4ehvf8Ay"
      },
      "outputs": [],
      "source": [
        "DBNAME = 'project_sql'\n",
        "USER = 'skillfactory'\n",
        "PASSWORD = 'cCkxxLVrDE8EbvjueeMedPKt'\n",
        "HOST = '84.201.134.129'\n",
        "PORT = 5432"
      ]
    },
    {
      "cell_type": "code",
      "execution_count": 3,
      "id": "G4X_q8KBf7SF",
      "metadata": {
        "id": "G4X_q8KBf7SF"
      },
      "outputs": [],
      "source": [
        "connection = psycopg2.connect(\n",
        "    dbname=DBNAME,\n",
        "    user=USER,\n",
        "    host=HOST,\n",
        "    password=PASSWORD,\n",
        "    port=PORT\n",
        ")"
      ]
    },
    {
      "cell_type": "markdown",
      "id": "0dc6476b-7a00-44f1-ac93-6e3baed33a29",
      "metadata": {
        "id": "0dc6476b-7a00-44f1-ac93-6e3baed33a29"
      },
      "source": [
        "# Юнит 3. Предварительный анализ данных"
      ]
    },
    {
      "cell_type": "markdown",
      "id": "889782b6-8d1c-410e-8920-e57f27917c64",
      "metadata": {
        "id": "889782b6-8d1c-410e-8920-e57f27917c64"
      },
      "source": [
        "1. Напишите запрос, который посчитает количество вакансий в нашей базе (вакансии находятся в таблице vacancies). "
      ]
    },
    {
      "cell_type": "code",
      "execution_count": 4,
      "id": "bc39e68e-ed02-4ee2-9235-7258a2f867a8",
      "metadata": {
        "id": "bc39e68e-ed02-4ee2-9235-7258a2f867a8"
      },
      "outputs": [],
      "source": [
        "query_3_1 = f'''select * /*выбираем все столбцы из таблицы vacancies*/\n",
        "    from public.vacancies\n",
        "'''"
      ]
    },
    {
      "cell_type": "code",
      "execution_count": 5,
      "id": "2964741f",
      "metadata": {},
      "outputs": [
        {
          "name": "stdout",
          "output_type": "stream",
          "text": [
            "количество вакансий= 49197\n"
          ]
        },
        {
          "data": {
            "text/html": [
              "<div>\n",
              "<style scoped>\n",
              "    .dataframe tbody tr th:only-of-type {\n",
              "        vertical-align: middle;\n",
              "    }\n",
              "\n",
              "    .dataframe tbody tr th {\n",
              "        vertical-align: top;\n",
              "    }\n",
              "\n",
              "    .dataframe thead th {\n",
              "        text-align: right;\n",
              "    }\n",
              "</style>\n",
              "<table border=\"1\" class=\"dataframe\">\n",
              "  <thead>\n",
              "    <tr style=\"text-align: right;\">\n",
              "      <th></th>\n",
              "      <th>id</th>\n",
              "      <th>name</th>\n",
              "      <th>key_skills</th>\n",
              "      <th>schedule</th>\n",
              "      <th>experience</th>\n",
              "      <th>employment</th>\n",
              "      <th>salary_from</th>\n",
              "      <th>salary_to</th>\n",
              "      <th>area_id</th>\n",
              "      <th>employer_id</th>\n",
              "    </tr>\n",
              "  </thead>\n",
              "  <tbody>\n",
              "    <tr>\n",
              "      <th>0</th>\n",
              "      <td>55312386</td>\n",
              "      <td>Компьютерный Мастер</td>\n",
              "      <td>Пользователь ПК\\tРабота в команде\\tРемонт ноут...</td>\n",
              "      <td>Полный день</td>\n",
              "      <td>Нет опыта</td>\n",
              "      <td>Полная занятость</td>\n",
              "      <td>64000.0</td>\n",
              "      <td>NaN</td>\n",
              "      <td>1516</td>\n",
              "      <td>5724811</td>\n",
              "    </tr>\n",
              "    <tr>\n",
              "      <th>1</th>\n",
              "      <td>55843014</td>\n",
              "      <td>Системный администратор</td>\n",
              "      <td>Средства криптографической защиты информации\\t...</td>\n",
              "      <td>Полный день</td>\n",
              "      <td>От 3 до 6 лет</td>\n",
              "      <td>Полная занятость</td>\n",
              "      <td>NaN</td>\n",
              "      <td>NaN</td>\n",
              "      <td>130</td>\n",
              "      <td>4903713</td>\n",
              "    </tr>\n",
              "    <tr>\n",
              "      <th>2</th>\n",
              "      <td>54525964</td>\n",
              "      <td>Lead Java Developer to Poland</td>\n",
              "      <td>Spring Framework\\tSQL\\tHibernate ORM\\tJava\\tGit</td>\n",
              "      <td>Удаленная работа</td>\n",
              "      <td>От 3 до 6 лет</td>\n",
              "      <td>Полная занятость</td>\n",
              "      <td>NaN</td>\n",
              "      <td>NaN</td>\n",
              "      <td>160</td>\n",
              "      <td>69961</td>\n",
              "    </tr>\n",
              "    <tr>\n",
              "      <th>3</th>\n",
              "      <td>54525965</td>\n",
              "      <td>Lead Java Developer to Poland</td>\n",
              "      <td>Spring Framework\\tSQL\\tHibernate ORM\\tJava\\tGit</td>\n",
              "      <td>Удаленная работа</td>\n",
              "      <td>От 3 до 6 лет</td>\n",
              "      <td>Полная занятость</td>\n",
              "      <td>NaN</td>\n",
              "      <td>NaN</td>\n",
              "      <td>159</td>\n",
              "      <td>69961</td>\n",
              "    </tr>\n",
              "    <tr>\n",
              "      <th>4</th>\n",
              "      <td>55354053</td>\n",
              "      <td>Специалист службы поддержки с техническими зна...</td>\n",
              "      <td>None</td>\n",
              "      <td>Удаленная работа</td>\n",
              "      <td>Нет опыта</td>\n",
              "      <td>Частичная занятость</td>\n",
              "      <td>15000.0</td>\n",
              "      <td>NaN</td>\n",
              "      <td>1955</td>\n",
              "      <td>1740</td>\n",
              "    </tr>\n",
              "    <tr>\n",
              "      <th>...</th>\n",
              "      <td>...</td>\n",
              "      <td>...</td>\n",
              "      <td>...</td>\n",
              "      <td>...</td>\n",
              "      <td>...</td>\n",
              "      <td>...</td>\n",
              "      <td>...</td>\n",
              "      <td>...</td>\n",
              "      <td>...</td>\n",
              "      <td>...</td>\n",
              "    </tr>\n",
              "    <tr>\n",
              "      <th>49192</th>\n",
              "      <td>55589514</td>\n",
              "      <td>Специалист по информационным технологиям</td>\n",
              "      <td>Электронный документооборот\\t1С: Предприятие 8...</td>\n",
              "      <td>Полный день</td>\n",
              "      <td>От 3 до 6 лет</td>\n",
              "      <td>Полная занятость</td>\n",
              "      <td>NaN</td>\n",
              "      <td>NaN</td>\n",
              "      <td>66</td>\n",
              "      <td>5109332</td>\n",
              "    </tr>\n",
              "    <tr>\n",
              "      <th>49193</th>\n",
              "      <td>55029668</td>\n",
              "      <td>Руководитель процессного офиса</td>\n",
              "      <td>Оптимизация бизнес-процессов\\tСтратегическое м...</td>\n",
              "      <td>Полный день</td>\n",
              "      <td>От 3 до 6 лет</td>\n",
              "      <td>Полная занятость</td>\n",
              "      <td>NaN</td>\n",
              "      <td>NaN</td>\n",
              "      <td>26</td>\n",
              "      <td>51333</td>\n",
              "    </tr>\n",
              "    <tr>\n",
              "      <th>49194</th>\n",
              "      <td>66172263</td>\n",
              "      <td>Начальник сервисной службы</td>\n",
              "      <td>Организаторские навыки\\tУправление персоналом\\...</td>\n",
              "      <td>Полный день</td>\n",
              "      <td>От 1 года до 3 лет</td>\n",
              "      <td>Полная занятость</td>\n",
              "      <td>60000.0</td>\n",
              "      <td>NaN</td>\n",
              "      <td>1930</td>\n",
              "      <td>4094700</td>\n",
              "    </tr>\n",
              "    <tr>\n",
              "      <th>49195</th>\n",
              "      <td>66180086</td>\n",
              "      <td>Senior IOS разработчик</td>\n",
              "      <td>Swift\\tRealm\\tiOS\\tАнглийский язык\\tMVP\\tMVVM\\...</td>\n",
              "      <td>Полный день</td>\n",
              "      <td>От 1 года до 3 лет</td>\n",
              "      <td>Полная занятость</td>\n",
              "      <td>146456.0</td>\n",
              "      <td>244094.0</td>\n",
              "      <td>160</td>\n",
              "      <td>4469939</td>\n",
              "    </tr>\n",
              "    <tr>\n",
              "      <th>49196</th>\n",
              "      <td>55547842</td>\n",
              "      <td>DataOps Engineer</td>\n",
              "      <td>None</td>\n",
              "      <td>Удаленная работа</td>\n",
              "      <td>От 3 до 6 лет</td>\n",
              "      <td>Полная занятость</td>\n",
              "      <td>NaN</td>\n",
              "      <td>NaN</td>\n",
              "      <td>160</td>\n",
              "      <td>4978627</td>\n",
              "    </tr>\n",
              "  </tbody>\n",
              "</table>\n",
              "<p>49197 rows × 10 columns</p>\n",
              "</div>"
            ],
            "text/plain": [
              "             id                                               name  \\\n",
              "0      55312386                                Компьютерный Мастер   \n",
              "1      55843014                            Системный администратор   \n",
              "2      54525964                      Lead Java Developer to Poland   \n",
              "3      54525965                      Lead Java Developer to Poland   \n",
              "4      55354053  Специалист службы поддержки с техническими зна...   \n",
              "...         ...                                                ...   \n",
              "49192  55589514           Специалист по информационным технологиям   \n",
              "49193  55029668                     Руководитель процессного офиса   \n",
              "49194  66172263                         Начальник сервисной службы   \n",
              "49195  66180086                             Senior IOS разработчик   \n",
              "49196  55547842                                   DataOps Engineer   \n",
              "\n",
              "                                              key_skills          schedule  \\\n",
              "0      Пользователь ПК\\tРабота в команде\\tРемонт ноут...       Полный день   \n",
              "1      Средства криптографической защиты информации\\t...       Полный день   \n",
              "2        Spring Framework\\tSQL\\tHibernate ORM\\tJava\\tGit  Удаленная работа   \n",
              "3        Spring Framework\\tSQL\\tHibernate ORM\\tJava\\tGit  Удаленная работа   \n",
              "4                                                   None  Удаленная работа   \n",
              "...                                                  ...               ...   \n",
              "49192  Электронный документооборот\\t1С: Предприятие 8...       Полный день   \n",
              "49193  Оптимизация бизнес-процессов\\tСтратегическое м...       Полный день   \n",
              "49194  Организаторские навыки\\tУправление персоналом\\...       Полный день   \n",
              "49195  Swift\\tRealm\\tiOS\\tАнглийский язык\\tMVP\\tMVVM\\...       Полный день   \n",
              "49196                                               None  Удаленная работа   \n",
              "\n",
              "               experience           employment  salary_from  salary_to  \\\n",
              "0               Нет опыта     Полная занятость      64000.0        NaN   \n",
              "1           От 3 до 6 лет     Полная занятость          NaN        NaN   \n",
              "2           От 3 до 6 лет     Полная занятость          NaN        NaN   \n",
              "3           От 3 до 6 лет     Полная занятость          NaN        NaN   \n",
              "4               Нет опыта  Частичная занятость      15000.0        NaN   \n",
              "...                   ...                  ...          ...        ...   \n",
              "49192       От 3 до 6 лет     Полная занятость          NaN        NaN   \n",
              "49193       От 3 до 6 лет     Полная занятость          NaN        NaN   \n",
              "49194  От 1 года до 3 лет     Полная занятость      60000.0        NaN   \n",
              "49195  От 1 года до 3 лет     Полная занятость     146456.0   244094.0   \n",
              "49196       От 3 до 6 лет     Полная занятость          NaN        NaN   \n",
              "\n",
              "       area_id  employer_id  \n",
              "0         1516      5724811  \n",
              "1          130      4903713  \n",
              "2          160        69961  \n",
              "3          159        69961  \n",
              "4         1955         1740  \n",
              "...        ...          ...  \n",
              "49192       66      5109332  \n",
              "49193       26        51333  \n",
              "49194     1930      4094700  \n",
              "49195      160      4469939  \n",
              "49196      160      4978627  \n",
              "\n",
              "[49197 rows x 10 columns]"
            ]
          },
          "metadata": {},
          "output_type": "display_data"
        },
        {
          "name": "stdout",
          "output_type": "stream",
          "text": [
            "<class 'pandas.core.frame.DataFrame'>\n",
            "RangeIndex: 49197 entries, 0 to 49196\n",
            "Data columns (total 10 columns):\n",
            " #   Column       Non-Null Count  Dtype  \n",
            "---  ------       --------------  -----  \n",
            " 0   id           49197 non-null  int64  \n",
            " 1   name         49197 non-null  object \n",
            " 2   key_skills   40741 non-null  object \n",
            " 3   schedule     49197 non-null  object \n",
            " 4   experience   49197 non-null  object \n",
            " 5   employment   49197 non-null  object \n",
            " 6   salary_from  21485 non-null  float64\n",
            " 7   salary_to    12690 non-null  float64\n",
            " 8   area_id      49197 non-null  int64  \n",
            " 9   employer_id  49197 non-null  int64  \n",
            "dtypes: float64(2), int64(3), object(5)\n",
            "memory usage: 3.8+ MB\n"
          ]
        }
      ],
      "source": [
        "# используем метод read_sql_query, чтобы получить результаты запроса сразу в виде датафрейма\n",
        "df_3_1 = pd.read_sql_query(query_3_1, connection)\n",
        "\n",
        "print('количество вакансий=', df_3_1['id'].count()) # считаем количество строк в таблице\n",
        "\n",
        "display(df_3_1) # выводим таблицу на экран\n",
        "\n",
        "df_3_1.info() # информация о таблице\n"
      ]
    },
    {
      "cell_type": "markdown",
      "id": "b583485d-1f9e-494e-ada4-80ffff7c53d6",
      "metadata": {
        "id": "b583485d-1f9e-494e-ada4-80ffff7c53d6"
      },
      "source": [
        "2. Напишите запрос, который посчитает количество работодателей (таблица employers). "
      ]
    },
    {
      "cell_type": "code",
      "execution_count": 6,
      "id": "5408c52c-3407-4a63-b25b-1aafa2322d28",
      "metadata": {
        "id": "5408c52c-3407-4a63-b25b-1aafa2322d28"
      },
      "outputs": [],
      "source": [
        "query_3_2 = f'''select * /*выбираем все столбцы из таблицы employers*/\n",
        "    from public.employers\n",
        "'''"
      ]
    },
    {
      "cell_type": "code",
      "execution_count": 7,
      "id": "c9541fa6",
      "metadata": {},
      "outputs": [
        {
          "name": "stdout",
          "output_type": "stream",
          "text": [
            "количество работодателей= 23501\n"
          ]
        },
        {
          "data": {
            "text/html": [
              "<div>\n",
              "<style scoped>\n",
              "    .dataframe tbody tr th:only-of-type {\n",
              "        vertical-align: middle;\n",
              "    }\n",
              "\n",
              "    .dataframe tbody tr th {\n",
              "        vertical-align: top;\n",
              "    }\n",
              "\n",
              "    .dataframe thead th {\n",
              "        text-align: right;\n",
              "    }\n",
              "</style>\n",
              "<table border=\"1\" class=\"dataframe\">\n",
              "  <thead>\n",
              "    <tr style=\"text-align: right;\">\n",
              "      <th></th>\n",
              "      <th>id</th>\n",
              "      <th>name</th>\n",
              "      <th>area</th>\n",
              "    </tr>\n",
              "  </thead>\n",
              "  <tbody>\n",
              "    <tr>\n",
              "      <th>0</th>\n",
              "      <td>2393</td>\n",
              "      <td>Программный Продукт, ИТ-компания</td>\n",
              "      <td>1</td>\n",
              "    </tr>\n",
              "    <tr>\n",
              "      <th>1</th>\n",
              "      <td>72977</td>\n",
              "      <td>БАРС Груп</td>\n",
              "      <td>88</td>\n",
              "    </tr>\n",
              "    <tr>\n",
              "      <th>2</th>\n",
              "      <td>3155</td>\n",
              "      <td>Бест, Торгово-производственная компания, Екате...</td>\n",
              "      <td>3</td>\n",
              "    </tr>\n",
              "    <tr>\n",
              "      <th>3</th>\n",
              "      <td>675</td>\n",
              "      <td>КОРУС Консалтинг</td>\n",
              "      <td>2</td>\n",
              "    </tr>\n",
              "    <tr>\n",
              "      <th>4</th>\n",
              "      <td>1840010</td>\n",
              "      <td>филиал ФКУ Налог-Сервис ФНС России в Республик...</td>\n",
              "      <td>88</td>\n",
              "    </tr>\n",
              "    <tr>\n",
              "      <th>...</th>\n",
              "      <td>...</td>\n",
              "      <td>...</td>\n",
              "      <td>...</td>\n",
              "    </tr>\n",
              "    <tr>\n",
              "      <th>23496</th>\n",
              "      <td>1441774</td>\n",
              "      <td>МарКо</td>\n",
              "      <td>88</td>\n",
              "    </tr>\n",
              "    <tr>\n",
              "      <th>23497</th>\n",
              "      <td>4718575</td>\n",
              "      <td>MKomov Studio</td>\n",
              "      <td>73</td>\n",
              "    </tr>\n",
              "    <tr>\n",
              "      <th>23498</th>\n",
              "      <td>3702770</td>\n",
              "      <td>АКИБ Ипотека-банк</td>\n",
              "      <td>2759</td>\n",
              "    </tr>\n",
              "    <tr>\n",
              "      <th>23499</th>\n",
              "      <td>5636092</td>\n",
              "      <td>ГИМ-КЛИНИКА</td>\n",
              "      <td>99</td>\n",
              "    </tr>\n",
              "    <tr>\n",
              "      <th>23500</th>\n",
              "      <td>2064382</td>\n",
              "      <td>Рыббла</td>\n",
              "      <td>104</td>\n",
              "    </tr>\n",
              "  </tbody>\n",
              "</table>\n",
              "<p>23501 rows × 3 columns</p>\n",
              "</div>"
            ],
            "text/plain": [
              "            id                                               name  area\n",
              "0         2393                   Программный Продукт, ИТ-компания     1\n",
              "1        72977                                          БАРС Груп    88\n",
              "2         3155  Бест, Торгово-производственная компания, Екате...     3\n",
              "3          675                                   КОРУС Консалтинг     2\n",
              "4      1840010  филиал ФКУ Налог-Сервис ФНС России в Республик...    88\n",
              "...        ...                                                ...   ...\n",
              "23496  1441774                                              МарКо    88\n",
              "23497  4718575                                      MKomov Studio    73\n",
              "23498  3702770                                  АКИБ Ипотека-банк  2759\n",
              "23499  5636092                                        ГИМ-КЛИНИКА    99\n",
              "23500  2064382                                             Рыббла   104\n",
              "\n",
              "[23501 rows x 3 columns]"
            ]
          },
          "metadata": {},
          "output_type": "display_data"
        }
      ],
      "source": [
        "df_3_2 = pd.read_sql_query(query_3_2, connection)\n",
        "\n",
        "print('количество работодателей=', df_3_2['id'].count()) # считаем количество строк в таблице\n",
        "\n",
        "display(df_3_2) # выводим таблицу на экран\n"
      ]
    },
    {
      "cell_type": "markdown",
      "id": "a2bfff1f-c975-4bf6-84be-2185d79dcb76",
      "metadata": {
        "id": "a2bfff1f-c975-4bf6-84be-2185d79dcb76"
      },
      "source": [
        "3. Посчитате с помощью запроса количество регионов (таблица areas)."
      ]
    },
    {
      "cell_type": "code",
      "execution_count": 8,
      "id": "1m8QJwBYhey6",
      "metadata": {
        "id": "1m8QJwBYhey6"
      },
      "outputs": [],
      "source": [
        "query_3_3 = f'''select *\n",
        "    from public.areas\n",
        "'''"
      ]
    },
    {
      "cell_type": "code",
      "execution_count": 9,
      "id": "a4084ee0",
      "metadata": {},
      "outputs": [
        {
          "name": "stdout",
          "output_type": "stream",
          "text": [
            "количество регионов= 1362\n"
          ]
        },
        {
          "data": {
            "text/html": [
              "<div>\n",
              "<style scoped>\n",
              "    .dataframe tbody tr th:only-of-type {\n",
              "        vertical-align: middle;\n",
              "    }\n",
              "\n",
              "    .dataframe tbody tr th {\n",
              "        vertical-align: top;\n",
              "    }\n",
              "\n",
              "    .dataframe thead th {\n",
              "        text-align: right;\n",
              "    }\n",
              "</style>\n",
              "<table border=\"1\" class=\"dataframe\">\n",
              "  <thead>\n",
              "    <tr style=\"text-align: right;\">\n",
              "      <th></th>\n",
              "      <th>id</th>\n",
              "      <th>name</th>\n",
              "    </tr>\n",
              "  </thead>\n",
              "  <tbody>\n",
              "    <tr>\n",
              "      <th>0</th>\n",
              "      <td>2758</td>\n",
              "      <td>Тбилиси</td>\n",
              "    </tr>\n",
              "    <tr>\n",
              "      <th>1</th>\n",
              "      <td>8</td>\n",
              "      <td>Майкоп</td>\n",
              "    </tr>\n",
              "    <tr>\n",
              "      <th>2</th>\n",
              "      <td>1180</td>\n",
              "      <td>Нерюнгри</td>\n",
              "    </tr>\n",
              "    <tr>\n",
              "      <th>3</th>\n",
              "      <td>1240</td>\n",
              "      <td>Новокузнецк</td>\n",
              "    </tr>\n",
              "    <tr>\n",
              "      <th>4</th>\n",
              "      <td>2</td>\n",
              "      <td>Санкт-Петербург</td>\n",
              "    </tr>\n",
              "    <tr>\n",
              "      <th>...</th>\n",
              "      <td>...</td>\n",
              "      <td>...</td>\n",
              "    </tr>\n",
              "    <tr>\n",
              "      <th>1357</th>\n",
              "      <td>5043</td>\n",
              "      <td>Звёздный Городок</td>\n",
              "    </tr>\n",
              "    <tr>\n",
              "      <th>1358</th>\n",
              "      <td>3934</td>\n",
              "      <td>Воротынск\\n</td>\n",
              "    </tr>\n",
              "    <tr>\n",
              "      <th>1359</th>\n",
              "      <td>4825</td>\n",
              "      <td>Чемал</td>\n",
              "    </tr>\n",
              "    <tr>\n",
              "      <th>1360</th>\n",
              "      <td>3708</td>\n",
              "      <td>Усть-Нера</td>\n",
              "    </tr>\n",
              "    <tr>\n",
              "      <th>1361</th>\n",
              "      <td>2432</td>\n",
              "      <td>Каневская</td>\n",
              "    </tr>\n",
              "  </tbody>\n",
              "</table>\n",
              "<p>1362 rows × 2 columns</p>\n",
              "</div>"
            ],
            "text/plain": [
              "        id              name\n",
              "0     2758           Тбилиси\n",
              "1        8            Майкоп\n",
              "2     1180          Нерюнгри\n",
              "3     1240       Новокузнецк\n",
              "4        2   Санкт-Петербург\n",
              "...    ...               ...\n",
              "1357  5043  Звёздный Городок\n",
              "1358  3934       Воротынск\\n\n",
              "1359  4825             Чемал\n",
              "1360  3708         Усть-Нера\n",
              "1361  2432         Каневская\n",
              "\n",
              "[1362 rows x 2 columns]"
            ]
          },
          "metadata": {},
          "output_type": "display_data"
        }
      ],
      "source": [
        "df_3_3 = pd.read_sql_query(query_3_3, connection)\n",
        "\n",
        "print('количество регионов=', df_3_3['id'].count()) # считаем количество строк в таблице\n",
        "\n",
        "display(df_3_3) # выводим таблицу на экран"
      ]
    },
    {
      "cell_type": "markdown",
      "id": "41bb59f3-53cc-4a67-a5bc-bedf573955e4",
      "metadata": {
        "id": "41bb59f3-53cc-4a67-a5bc-bedf573955e4"
      },
      "source": [
        "4. Посчитате с помощью запроса количество сфер деятельности в базе (таблица industries)."
      ]
    },
    {
      "cell_type": "code",
      "execution_count": 10,
      "id": "d286cf4c-707b-4cd2-9190-7ab3587d04a1",
      "metadata": {
        "id": "d286cf4c-707b-4cd2-9190-7ab3587d04a1"
      },
      "outputs": [],
      "source": [
        "query_3_4 = f'''select *\n",
        "    from public.industries\n",
        "'''"
      ]
    },
    {
      "cell_type": "code",
      "execution_count": 11,
      "id": "JYAaoZ4qhfzW",
      "metadata": {
        "id": "JYAaoZ4qhfzW"
      },
      "outputs": [
        {
          "name": "stdout",
          "output_type": "stream",
          "text": [
            "количество сфер деятельности= 294\n"
          ]
        },
        {
          "data": {
            "text/html": [
              "<div>\n",
              "<style scoped>\n",
              "    .dataframe tbody tr th:only-of-type {\n",
              "        vertical-align: middle;\n",
              "    }\n",
              "\n",
              "    .dataframe tbody tr th {\n",
              "        vertical-align: top;\n",
              "    }\n",
              "\n",
              "    .dataframe thead th {\n",
              "        text-align: right;\n",
              "    }\n",
              "</style>\n",
              "<table border=\"1\" class=\"dataframe\">\n",
              "  <thead>\n",
              "    <tr style=\"text-align: right;\">\n",
              "      <th></th>\n",
              "      <th>id</th>\n",
              "      <th>name</th>\n",
              "    </tr>\n",
              "  </thead>\n",
              "  <tbody>\n",
              "    <tr>\n",
              "      <th>0</th>\n",
              "      <td>7.540</td>\n",
              "      <td>Разработка программного обеспечения</td>\n",
              "    </tr>\n",
              "    <tr>\n",
              "      <th>1</th>\n",
              "      <td>7.539</td>\n",
              "      <td>Системная интеграция,  автоматизации технологи...</td>\n",
              "    </tr>\n",
              "    <tr>\n",
              "      <th>2</th>\n",
              "      <td>27.550</td>\n",
              "      <td>Безалкогольные напитки (производство)</td>\n",
              "    </tr>\n",
              "    <tr>\n",
              "      <th>3</th>\n",
              "      <td>27.551</td>\n",
              "      <td>Безалкогольные напитки (продвижение, оптовая т...</td>\n",
              "    </tr>\n",
              "    <tr>\n",
              "      <th>4</th>\n",
              "      <td>13.664</td>\n",
              "      <td>Управление и эксплуатация недвижимости</td>\n",
              "    </tr>\n",
              "    <tr>\n",
              "      <th>...</th>\n",
              "      <td>...</td>\n",
              "      <td>...</td>\n",
              "    </tr>\n",
              "    <tr>\n",
              "      <th>289</th>\n",
              "      <td>37.626</td>\n",
              "      <td>Ассоциация в сфере культуры, искусства</td>\n",
              "    </tr>\n",
              "    <tr>\n",
              "      <th>290</th>\n",
              "      <td>42.603</td>\n",
              "      <td>Табак  (производство)</td>\n",
              "    </tr>\n",
              "    <tr>\n",
              "      <th>291</th>\n",
              "      <td>29.532</td>\n",
              "      <td>Рыболовство, рыбоводство</td>\n",
              "    </tr>\n",
              "    <tr>\n",
              "      <th>292</th>\n",
              "      <td>37.627</td>\n",
              "      <td>Благотворительная организация</td>\n",
              "    </tr>\n",
              "    <tr>\n",
              "      <th>293</th>\n",
              "      <td>388.505</td>\n",
              "      <td>Оборудование для деревообработки, заготовки ле...</td>\n",
              "    </tr>\n",
              "  </tbody>\n",
              "</table>\n",
              "<p>294 rows × 2 columns</p>\n",
              "</div>"
            ],
            "text/plain": [
              "          id                                               name\n",
              "0      7.540                Разработка программного обеспечения\n",
              "1      7.539  Системная интеграция,  автоматизации технологи...\n",
              "2     27.550              Безалкогольные напитки (производство)\n",
              "3     27.551  Безалкогольные напитки (продвижение, оптовая т...\n",
              "4     13.664             Управление и эксплуатация недвижимости\n",
              "..       ...                                                ...\n",
              "289   37.626             Ассоциация в сфере культуры, искусства\n",
              "290   42.603                              Табак  (производство)\n",
              "291   29.532                           Рыболовство, рыбоводство\n",
              "292   37.627                      Благотворительная организация\n",
              "293  388.505  Оборудование для деревообработки, заготовки ле...\n",
              "\n",
              "[294 rows x 2 columns]"
            ]
          },
          "metadata": {},
          "output_type": "display_data"
        }
      ],
      "source": [
        "df_3_4 = pd.read_sql_query(query_3_4, connection)\n",
        "\n",
        "print('количество сфер деятельности=', df_3_4['id'].count())\n",
        "\n",
        "display(df_3_4)"
      ]
    },
    {
      "cell_type": "markdown",
      "id": "9a8a2181-6914-448b-85f1-38f5f18b8a93",
      "metadata": {
        "id": "9a8a2181-6914-448b-85f1-38f5f18b8a93"
      },
      "source": [
        "***"
      ]
    },
    {
      "cell_type": "markdown",
      "id": "be4e9bd3-a4db-4a20-82fb-6b02fc2957e0",
      "metadata": {
        "id": "be4e9bd3-a4db-4a20-82fb-6b02fc2957e0"
      },
      "source": [
        "## По предварительному анализу данных можно сделать следующие выводы:\n",
        "1. Так как в России на [1 октября 2023г. проживало 80 286 415 ](https://bdex.ru/naselenie/russia/?ysclid=lnhc3oqwp0407135374) трудоспособных человек получается, что на каждые 10 000 человек 6 вакансий по компьютерным технологиям. А на [11 безработных ]( https://lenta.ru/news/2023/04/08/golikova/) получается одна вакансия по компьютерным технологиям. Что говорит о не хватке специалистов по компьютерным технологиям.\n",
        "2. Количество работодателей по данным из [HeadHunter](https://ru.wikipedia.org/wiki/HeadHunter) свыше 515 тыс. компаний из них ищут сотрудников, а по компьютерным технологиям 23.5 тыс. компаний то есть 4.5% что довольно много и рост продолжается. Это говорит о том, что все больше компаний начинают применять компьютерные технологии у себя на производстве.  \n",
        "3. [Количество городов в России 1119](https://ru.wikipedia.org/wiki/%D0%93%D0%BE%D1%80%D0%BE%D0%B4%D0%B0_%D0%A0%D0%BE%D1%81%D1%81%D0%B8%D0%B8), а в нашей таблицы  1362 региона это означает, что практически в любом городе  найдутся вакансии по компьютерным технологиям. Но в почти половине регионах вакансии отсутствуют (см. ниже). По этому в регионах с низкой протностью населения вакансий мало. \n",
        "4. Основных [сфер деятельности 13:](https://profstandart-rosmintrud.ru/kakie-sfery-deyatelnosti-sushhestvuyut/?ysclid=lnhev2pcbz87396995#%D0%A2%D0%B5%D1%85%D0%BD%D0%B8%D1%87%D0%B5%D1%81%D0%BA%D0%B8%D0%B5) Технические, Экономические, Творческие, Военные профессии, Профессии связанные с путешествиями, Медицинские, Педагогические, Юридические, Работа с людьми, Безопасность, Аграрные и животноводческие, Транспортные профессии, Лингвистические. В нашей таблице 294 сферы деятельности это означает, что компьютерные технологии проникли практически во все эти сферы тем или иным образом "
      ]
    },
    {
      "cell_type": "markdown",
      "id": "8d62a9f3-f64e-4fe7-bdac-c4dffa16155e",
      "metadata": {
        "id": "8d62a9f3-f64e-4fe7-bdac-c4dffa16155e"
      },
      "source": [
        "# Юнит 4. Детальный анализ вакансий"
      ]
    },
    {
      "cell_type": "markdown",
      "id": "93053d3d-b284-481a-9cf7-012d7014c0e0",
      "metadata": {
        "id": "93053d3d-b284-481a-9cf7-012d7014c0e0"
      },
      "source": [
        "1. Напишите запрос, который позволит узнать, сколько (cnt) вакансий в каждом регионе (area).\n",
        "Отсортируйте по количеству вакансий в порядке убывания."
      ]
    },
    {
      "cell_type": "code",
      "execution_count": 12,
      "id": "3f069da6-fdc9-4ae7-b514-fafe2675efd3",
      "metadata": {
        "id": "3f069da6-fdc9-4ae7-b514-fafe2675efd3"
      },
      "outputs": [],
      "source": [
        "query_4_1 = f'''select \n",
        "    a.name area,                        /* выводим наименование регионов с алиусом area */\n",
        "    count(v.id) cnt                     /* выводим сумму не пустых значений в каждом регионе */\n",
        "    \n",
        "    from public.vacancies v left join    /* обединяем таблицы vacancies и area с алиасами 'v' и 'a' */\n",
        "        public.areas a on v.area_id=a.id /* соответственно при помоши left join по v.area_id и a.id */\n",
        "        \n",
        "    group by 1                           /* груперуем таблицу по первому столбцу a.name */\n",
        "    order by 2 desc                      /* сортируем по убыванию второго столбца */\n",
        "            \n",
        "'''"
      ]
    },
    {
      "cell_type": "code",
      "execution_count": 13,
      "id": "P7QL86hrjhRJ",
      "metadata": {
        "id": "P7QL86hrjhRJ"
      },
      "outputs": [
        {
          "data": {
            "text/html": [
              "<div>\n",
              "<style scoped>\n",
              "    .dataframe tbody tr th:only-of-type {\n",
              "        vertical-align: middle;\n",
              "    }\n",
              "\n",
              "    .dataframe tbody tr th {\n",
              "        vertical-align: top;\n",
              "    }\n",
              "\n",
              "    .dataframe thead th {\n",
              "        text-align: right;\n",
              "    }\n",
              "</style>\n",
              "<table border=\"1\" class=\"dataframe\">\n",
              "  <thead>\n",
              "    <tr style=\"text-align: right;\">\n",
              "      <th></th>\n",
              "      <th>area</th>\n",
              "      <th>cnt</th>\n",
              "    </tr>\n",
              "  </thead>\n",
              "  <tbody>\n",
              "    <tr>\n",
              "      <th>0</th>\n",
              "      <td>Москва</td>\n",
              "      <td>5333</td>\n",
              "    </tr>\n",
              "    <tr>\n",
              "      <th>1</th>\n",
              "      <td>Санкт-Петербург</td>\n",
              "      <td>2851</td>\n",
              "    </tr>\n",
              "    <tr>\n",
              "      <th>2</th>\n",
              "      <td>Минск</td>\n",
              "      <td>2112</td>\n",
              "    </tr>\n",
              "    <tr>\n",
              "      <th>3</th>\n",
              "      <td>Новосибирск</td>\n",
              "      <td>2006</td>\n",
              "    </tr>\n",
              "    <tr>\n",
              "      <th>4</th>\n",
              "      <td>Алматы</td>\n",
              "      <td>1892</td>\n",
              "    </tr>\n",
              "    <tr>\n",
              "      <th>...</th>\n",
              "      <td>...</td>\n",
              "      <td>...</td>\n",
              "    </tr>\n",
              "    <tr>\n",
              "      <th>764</th>\n",
              "      <td>Тарко-Сале</td>\n",
              "      <td>1</td>\n",
              "    </tr>\n",
              "    <tr>\n",
              "      <th>765</th>\n",
              "      <td>Новоаннинский</td>\n",
              "      <td>1</td>\n",
              "    </tr>\n",
              "    <tr>\n",
              "      <th>766</th>\n",
              "      <td>Бирск</td>\n",
              "      <td>1</td>\n",
              "    </tr>\n",
              "    <tr>\n",
              "      <th>767</th>\n",
              "      <td>Сасово</td>\n",
              "      <td>1</td>\n",
              "    </tr>\n",
              "    <tr>\n",
              "      <th>768</th>\n",
              "      <td>Анна</td>\n",
              "      <td>1</td>\n",
              "    </tr>\n",
              "  </tbody>\n",
              "</table>\n",
              "<p>769 rows × 2 columns</p>\n",
              "</div>"
            ],
            "text/plain": [
              "                area   cnt\n",
              "0             Москва  5333\n",
              "1    Санкт-Петербург  2851\n",
              "2              Минск  2112\n",
              "3        Новосибирск  2006\n",
              "4             Алматы  1892\n",
              "..               ...   ...\n",
              "764       Тарко-Сале     1\n",
              "765    Новоаннинский     1\n",
              "766            Бирск     1\n",
              "767           Сасово     1\n",
              "768             Анна     1\n",
              "\n",
              "[769 rows x 2 columns]"
            ]
          },
          "execution_count": 13,
          "metadata": {},
          "output_type": "execute_result"
        }
      ],
      "source": [
        "df_4_1= pd.read_sql_query(query_4_1, connection)\n",
        "df_4_1"
      ]
    },
    {
      "cell_type": "markdown",
      "id": "4266f0b6-1646-492a-88b4-2f6a46502135",
      "metadata": {
        "id": "4266f0b6-1646-492a-88b4-2f6a46502135"
      },
      "source": [
        "2. Напишите запрос, чтобы определить у какого количества вакансий заполнено хотя бы одно из двух полей с зарплатой."
      ]
    },
    {
      "cell_type": "code",
      "execution_count": 14,
      "id": "0c44b350-72eb-4d65-8b54-a1fc449ba9fd",
      "metadata": {
        "id": "0c44b350-72eb-4d65-8b54-a1fc449ba9fd"
      },
      "outputs": [],
      "source": [
        "query_4_2 = f'''select \n",
        "    count(id) cnt                 /* считаем количество не пустых строк */\n",
        "            \n",
        "    from public.vacancies         /* подключаем таблицу vacancies */\n",
        "            \n",
        "    /* записываем условие чтобы хтябы одно из значений таблицы было заполнено */\n",
        "     where (salary_to is not null) or (salary_from is not null)\n",
        "'''"
      ]
    },
    {
      "cell_type": "code",
      "execution_count": 15,
      "id": "rhvwaMDkoWTi",
      "metadata": {
        "id": "rhvwaMDkoWTi"
      },
      "outputs": [
        {
          "name": "stdout",
          "output_type": "stream",
          "text": [
            "количество вакансий с уазанной зарплаттой=  24073\n"
          ]
        }
      ],
      "source": [
        "df_4_2 = pd.read_sql_query(query_4_2, connection)\n",
        "print(\"количество вакансий с уазанной зарплаттой= \", df_4_2.loc[0,'cnt'])"
      ]
    },
    {
      "cell_type": "markdown",
      "id": "635c4d5d-f323-4c66-b428-50a088120aa0",
      "metadata": {
        "id": "635c4d5d-f323-4c66-b428-50a088120aa0"
      },
      "source": [
        "3. Найдите средние значения для нижней и верхней границы зарплатной вилки. Округлите значения до целого."
      ]
    },
    {
      "cell_type": "code",
      "execution_count": 16,
      "id": "603cdbe4-0ec3-4106-8eaf-c73fcdd29165",
      "metadata": {
        "id": "603cdbe4-0ec3-4106-8eaf-c73fcdd29165"
      },
      "outputs": [],
      "source": [
        "query_4_3 = f'''select \n",
        "    avg(salary_to) avg_to , /* вычисляем среднее значение верхней границы зарплатной вилки */\n",
        "    avg(salary_from) avg_from /* вычисляем среднее значение нижней границы зарплатной вилки */\n",
        "            \n",
        "    from public.vacancies  /* подключаем таблицу vacancies */\n",
        "            \n",
        "    /* записываем условие чтобы хтябы одно из значений таблицы было заполнено */\n",
        "    where (salary_to is not null) or (salary_from is not null)\n",
        "'''"
      ]
    },
    {
      "cell_type": "code",
      "execution_count": 17,
      "id": "pswpAb66ovZZ",
      "metadata": {
        "id": "pswpAb66ovZZ"
      },
      "outputs": [
        {
          "data": {
            "text/html": [
              "<div>\n",
              "<style scoped>\n",
              "    .dataframe tbody tr th:only-of-type {\n",
              "        vertical-align: middle;\n",
              "    }\n",
              "\n",
              "    .dataframe tbody tr th {\n",
              "        vertical-align: top;\n",
              "    }\n",
              "\n",
              "    .dataframe thead th {\n",
              "        text-align: right;\n",
              "    }\n",
              "</style>\n",
              "<table border=\"1\" class=\"dataframe\">\n",
              "  <thead>\n",
              "    <tr style=\"text-align: right;\">\n",
              "      <th></th>\n",
              "      <th>avg_to</th>\n",
              "      <th>avg_from</th>\n",
              "    </tr>\n",
              "  </thead>\n",
              "  <tbody>\n",
              "    <tr>\n",
              "      <th>0</th>\n",
              "      <td>110537.0</td>\n",
              "      <td>71065.0</td>\n",
              "    </tr>\n",
              "  </tbody>\n",
              "</table>\n",
              "</div>"
            ],
            "text/plain": [
              "     avg_to  avg_from\n",
              "0  110537.0   71065.0"
            ]
          },
          "metadata": {},
          "output_type": "display_data"
        }
      ],
      "source": [
        "df_4_3= pd.read_sql_query(query_4_3, connection)\n",
        "display(round(df_4_3))"
      ]
    },
    {
      "cell_type": "markdown",
      "id": "f3fdaec9-5fd3-4260-9cf5-1d7406b628a5",
      "metadata": {
        "id": "f3fdaec9-5fd3-4260-9cf5-1d7406b628a5"
      },
      "source": [
        "4. Напишите запрос, который выведет количество вакансий для каждого сочетания типа рабочего графика (schedule) и типа трудоустройства (employment), используемого в вакансиях. Результат отсортируйте по убыванию количества.\n"
      ]
    },
    {
      "cell_type": "code",
      "execution_count": 18,
      "id": "1ea710ec-871b-431e-9462-c7d0fd87011b",
      "metadata": {
        "id": "1ea710ec-871b-431e-9462-c7d0fd87011b"
      },
      "outputs": [],
      "source": [
        "query_4_4 = f'''select  \n",
        "    distinct /* выбираем уникальные значения */\n",
        "\n",
        "    v.schedule \"типа рабочего графика\", /* все соетания рабочего гафика и типа трудоустройства */\n",
        "    v.employment \"типа трудоустройства\",\n",
        "    \n",
        "    count(*) \"количество вакансий\"  /* количество уникальных значений */\n",
        "    \n",
        "    from public.vacancies v /* подключаем таблицу vacancies */\n",
        "    \n",
        "    group by 1,2 /* груируем по первому а затем по второму столбцу */\n",
        "    order by 3 desc /* сортируем по убыванию третьего столбца */\n",
        "'''"
      ]
    },
    {
      "cell_type": "code",
      "execution_count": 19,
      "id": "lGUVqavdo4JQ",
      "metadata": {
        "id": "lGUVqavdo4JQ"
      },
      "outputs": [
        {
          "data": {
            "text/html": [
              "<div>\n",
              "<style scoped>\n",
              "    .dataframe tbody tr th:only-of-type {\n",
              "        vertical-align: middle;\n",
              "    }\n",
              "\n",
              "    .dataframe tbody tr th {\n",
              "        vertical-align: top;\n",
              "    }\n",
              "\n",
              "    .dataframe thead th {\n",
              "        text-align: right;\n",
              "    }\n",
              "</style>\n",
              "<table border=\"1\" class=\"dataframe\">\n",
              "  <thead>\n",
              "    <tr style=\"text-align: right;\">\n",
              "      <th></th>\n",
              "      <th>типа рабочего графика</th>\n",
              "      <th>типа трудоустройства</th>\n",
              "      <th>количество вакансий</th>\n",
              "    </tr>\n",
              "  </thead>\n",
              "  <tbody>\n",
              "    <tr>\n",
              "      <th>0</th>\n",
              "      <td>Полный день</td>\n",
              "      <td>Полная занятость</td>\n",
              "      <td>35367</td>\n",
              "    </tr>\n",
              "    <tr>\n",
              "      <th>1</th>\n",
              "      <td>Удаленная работа</td>\n",
              "      <td>Полная занятость</td>\n",
              "      <td>7802</td>\n",
              "    </tr>\n",
              "    <tr>\n",
              "      <th>2</th>\n",
              "      <td>Гибкий график</td>\n",
              "      <td>Полная занятость</td>\n",
              "      <td>1593</td>\n",
              "    </tr>\n",
              "    <tr>\n",
              "      <th>3</th>\n",
              "      <td>Удаленная работа</td>\n",
              "      <td>Частичная занятость</td>\n",
              "      <td>1312</td>\n",
              "    </tr>\n",
              "    <tr>\n",
              "      <th>4</th>\n",
              "      <td>Сменный график</td>\n",
              "      <td>Полная занятость</td>\n",
              "      <td>940</td>\n",
              "    </tr>\n",
              "    <tr>\n",
              "      <th>5</th>\n",
              "      <td>Полный день</td>\n",
              "      <td>Стажировка</td>\n",
              "      <td>569</td>\n",
              "    </tr>\n",
              "    <tr>\n",
              "      <th>6</th>\n",
              "      <td>Вахтовый метод</td>\n",
              "      <td>Полная занятость</td>\n",
              "      <td>367</td>\n",
              "    </tr>\n",
              "    <tr>\n",
              "      <th>7</th>\n",
              "      <td>Полный день</td>\n",
              "      <td>Частичная занятость</td>\n",
              "      <td>347</td>\n",
              "    </tr>\n",
              "    <tr>\n",
              "      <th>8</th>\n",
              "      <td>Гибкий график</td>\n",
              "      <td>Частичная занятость</td>\n",
              "      <td>312</td>\n",
              "    </tr>\n",
              "    <tr>\n",
              "      <th>9</th>\n",
              "      <td>Полный день</td>\n",
              "      <td>Проектная работа</td>\n",
              "      <td>141</td>\n",
              "    </tr>\n",
              "    <tr>\n",
              "      <th>10</th>\n",
              "      <td>Удаленная работа</td>\n",
              "      <td>Проектная работа</td>\n",
              "      <td>133</td>\n",
              "    </tr>\n",
              "    <tr>\n",
              "      <th>11</th>\n",
              "      <td>Гибкий график</td>\n",
              "      <td>Стажировка</td>\n",
              "      <td>116</td>\n",
              "    </tr>\n",
              "    <tr>\n",
              "      <th>12</th>\n",
              "      <td>Сменный график</td>\n",
              "      <td>Частичная занятость</td>\n",
              "      <td>101</td>\n",
              "    </tr>\n",
              "    <tr>\n",
              "      <th>13</th>\n",
              "      <td>Удаленная работа</td>\n",
              "      <td>Стажировка</td>\n",
              "      <td>64</td>\n",
              "    </tr>\n",
              "    <tr>\n",
              "      <th>14</th>\n",
              "      <td>Гибкий график</td>\n",
              "      <td>Проектная работа</td>\n",
              "      <td>18</td>\n",
              "    </tr>\n",
              "    <tr>\n",
              "      <th>15</th>\n",
              "      <td>Сменный график</td>\n",
              "      <td>Стажировка</td>\n",
              "      <td>12</td>\n",
              "    </tr>\n",
              "    <tr>\n",
              "      <th>16</th>\n",
              "      <td>Вахтовый метод</td>\n",
              "      <td>Проектная работа</td>\n",
              "      <td>2</td>\n",
              "    </tr>\n",
              "    <tr>\n",
              "      <th>17</th>\n",
              "      <td>Сменный график</td>\n",
              "      <td>Проектная работа</td>\n",
              "      <td>1</td>\n",
              "    </tr>\n",
              "  </tbody>\n",
              "</table>\n",
              "</div>"
            ],
            "text/plain": [
              "   типа рабочего графика типа трудоустройства  количество вакансий\n",
              "0            Полный день     Полная занятость                35367\n",
              "1       Удаленная работа     Полная занятость                 7802\n",
              "2          Гибкий график     Полная занятость                 1593\n",
              "3       Удаленная работа  Частичная занятость                 1312\n",
              "4         Сменный график     Полная занятость                  940\n",
              "5            Полный день           Стажировка                  569\n",
              "6         Вахтовый метод     Полная занятость                  367\n",
              "7            Полный день  Частичная занятость                  347\n",
              "8          Гибкий график  Частичная занятость                  312\n",
              "9            Полный день     Проектная работа                  141\n",
              "10      Удаленная работа     Проектная работа                  133\n",
              "11         Гибкий график           Стажировка                  116\n",
              "12        Сменный график  Частичная занятость                  101\n",
              "13      Удаленная работа           Стажировка                   64\n",
              "14         Гибкий график     Проектная работа                   18\n",
              "15        Сменный график           Стажировка                   12\n",
              "16        Вахтовый метод     Проектная работа                    2\n",
              "17        Сменный график     Проектная работа                    1"
            ]
          },
          "metadata": {},
          "output_type": "display_data"
        }
      ],
      "source": [
        "df_4_4= pd.read_sql_query(query_4_4, connection)\n",
        "display(df_4_4)"
      ]
    },
    {
      "cell_type": "markdown",
      "id": "0136ffee-0ead-4a6b-b608-61d1c753a438",
      "metadata": {
        "id": "0136ffee-0ead-4a6b-b608-61d1c753a438"
      },
      "source": [
        "5. Напишите запрос, выводящий значения поля Требуемый опыт работы (experience) в порядке возрастания количества вакансий, в которых указан данный вариант опыта. "
      ]
    },
    {
      "cell_type": "code",
      "execution_count": 20,
      "id": "5b3a8e79-f7ab-4008-b767-12aea3a205ea",
      "metadata": {
        "id": "5b3a8e79-f7ab-4008-b767-12aea3a205ea"
      },
      "outputs": [],
      "source": [
        "query_4_5 = f'''select  \n",
        "    distinct                             /* выбираем уникальные значения */\n",
        "    v.experience \"Требуемый опыт работы\",/* выбираем столбец experience (опыт работы)*/\n",
        "    count(*) cnt                         /* количество уникальных значений */\n",
        "    \n",
        "    from public.vacancies v              /* подключаем таблицу vacancies */\n",
        "    \n",
        "    group by 1                           /* груируем по первому  столбцу */\n",
        "    order by 2                           /* сортируем по возрастанию вторго столбца */\n",
        "'''"
      ]
    },
    {
      "cell_type": "code",
      "execution_count": 21,
      "id": "3Is64Y-hpDpq",
      "metadata": {
        "id": "3Is64Y-hpDpq"
      },
      "outputs": [
        {
          "data": {
            "text/html": [
              "<div>\n",
              "<style scoped>\n",
              "    .dataframe tbody tr th:only-of-type {\n",
              "        vertical-align: middle;\n",
              "    }\n",
              "\n",
              "    .dataframe tbody tr th {\n",
              "        vertical-align: top;\n",
              "    }\n",
              "\n",
              "    .dataframe thead th {\n",
              "        text-align: right;\n",
              "    }\n",
              "</style>\n",
              "<table border=\"1\" class=\"dataframe\">\n",
              "  <thead>\n",
              "    <tr style=\"text-align: right;\">\n",
              "      <th></th>\n",
              "      <th>Требуемый опыт работы</th>\n",
              "      <th>cnt</th>\n",
              "    </tr>\n",
              "  </thead>\n",
              "  <tbody>\n",
              "    <tr>\n",
              "      <th>0</th>\n",
              "      <td>Более 6 лет</td>\n",
              "      <td>1337</td>\n",
              "    </tr>\n",
              "    <tr>\n",
              "      <th>1</th>\n",
              "      <td>Нет опыта</td>\n",
              "      <td>7197</td>\n",
              "    </tr>\n",
              "    <tr>\n",
              "      <th>2</th>\n",
              "      <td>От 3 до 6 лет</td>\n",
              "      <td>14511</td>\n",
              "    </tr>\n",
              "    <tr>\n",
              "      <th>3</th>\n",
              "      <td>От 1 года до 3 лет</td>\n",
              "      <td>26152</td>\n",
              "    </tr>\n",
              "  </tbody>\n",
              "</table>\n",
              "</div>"
            ],
            "text/plain": [
              "  Требуемый опыт работы    cnt\n",
              "0           Более 6 лет   1337\n",
              "1             Нет опыта   7197\n",
              "2         От 3 до 6 лет  14511\n",
              "3    От 1 года до 3 лет  26152"
            ]
          },
          "metadata": {},
          "output_type": "display_data"
        }
      ],
      "source": [
        "df_4_5= pd.read_sql_query(query_4_5, connection)\n",
        "display(df_4_5)"
      ]
    },
    {
      "cell_type": "markdown",
      "id": "oq2b7n1QpIka",
      "metadata": {
        "id": "oq2b7n1QpIka"
      },
      "source": [
        "***"
      ]
    },
    {
      "cell_type": "markdown",
      "id": "e91f87ed-e25c-4f96-9f92-b642e8c0b4fa",
      "metadata": {
        "id": "e91f87ed-e25c-4f96-9f92-b642e8c0b4fa"
      },
      "source": [
        "## По анализу вакансий можно сделать следующие выводы:\n",
        "1.\tЕсли рассматривать вакансии по территориальному признаку, то наибольшее количество вакансий приходится на города миллионщики «Москва, Новосибирск и т.д.», где плотность населения выше. Но и в остальных регионах есть или были вакансии. \n",
        "2.\tВакансий с установленной заработной платой примерно половина от общего числа и средняя от 71 тыс. руб. до 110.5 тыс. руб., у остальных вакансий зарплата либо договорная, либо озвучивается в тексте объявления. \n",
        "3.\tРаботодатели предпочитают искать работников на полный рабочий день и полную занятость 35.3 тыс. вакансий, также удаленная работа и полная занятость 7.8 тыс. вакансии. Остальные сочетания менее привлекательны работодателям самая не привлекательная пара сменный график проектная работа одна вакансия\n",
        "4.\tВ связи с тем, что у нас наблюдается нехватка специалистов по компьютерным технологиям многие компании соглашаются брать специалистов с минимальным опытом от 1 года до 3 лет и таких компаний больше половины 26.2 тыс. Четверть компаний берут специалистов с опытом от 3 до 6 лет 14.5 тыс.  Без опыта работы тоже требуются 7.2 тыс. и немного компаний 1.3 тыс. хотят иметь специалиста с опытом работы более 6 лет.   "
      ]
    },
    {
      "cell_type": "markdown",
      "id": "7ea20ab6-04a7-40a0-adec-443a0e5a42c3",
      "metadata": {
        "id": "7ea20ab6-04a7-40a0-adec-443a0e5a42c3"
      },
      "source": [
        "# Юнит 5. Анализ работодателей"
      ]
    },
    {
      "cell_type": "markdown",
      "id": "968aed80-74ef-4ffb-b5bf-c65b84e9caea",
      "metadata": {
        "id": "968aed80-74ef-4ffb-b5bf-c65b84e9caea"
      },
      "source": [
        "1. Напишите запрос, который позволит узнать, какие работодатели находятся на первом и пятом месте по количеству вакансий."
      ]
    },
    {
      "cell_type": "code",
      "execution_count": 22,
      "id": "f2d62796-d400-4ec1-a675-88112739a50e",
      "metadata": {
        "id": "f2d62796-d400-4ec1-a675-88112739a50e"
      },
      "outputs": [],
      "source": [
        "query_5_1 = f'''select  distinct   /* выбираем уникальные значения */\n",
        "                e.name \"работодатели\",\n",
        "                count(v.id) \"количествo вакансий\"\n",
        "            from public.vacancies v full join public.employers e on e.id= v.employer_id\n",
        "            group by 1\n",
        "            order by 2 desc\n",
        "'''"
      ]
    },
    {
      "cell_type": "code",
      "execution_count": 23,
      "id": "64tOMkAxqkQk",
      "metadata": {
        "id": "64tOMkAxqkQk"
      },
      "outputs": [
        {
          "data": {
            "text/html": [
              "<div>\n",
              "<style scoped>\n",
              "    .dataframe tbody tr th:only-of-type {\n",
              "        vertical-align: middle;\n",
              "    }\n",
              "\n",
              "    .dataframe tbody tr th {\n",
              "        vertical-align: top;\n",
              "    }\n",
              "\n",
              "    .dataframe thead th {\n",
              "        text-align: right;\n",
              "    }\n",
              "</style>\n",
              "<table border=\"1\" class=\"dataframe\">\n",
              "  <thead>\n",
              "    <tr style=\"text-align: right;\">\n",
              "      <th></th>\n",
              "      <th>работодатели</th>\n",
              "      <th>количествo вакансий</th>\n",
              "    </tr>\n",
              "  </thead>\n",
              "  <tbody>\n",
              "    <tr>\n",
              "      <th>0</th>\n",
              "      <td>Яндекс</td>\n",
              "      <td>1933</td>\n",
              "    </tr>\n",
              "    <tr>\n",
              "      <th>1</th>\n",
              "      <td>Ростелеком</td>\n",
              "      <td>491</td>\n",
              "    </tr>\n",
              "    <tr>\n",
              "      <th>2</th>\n",
              "      <td>Тинькофф</td>\n",
              "      <td>444</td>\n",
              "    </tr>\n",
              "    <tr>\n",
              "      <th>3</th>\n",
              "      <td>СБЕР</td>\n",
              "      <td>428</td>\n",
              "    </tr>\n",
              "    <tr>\n",
              "      <th>4</th>\n",
              "      <td>Газпром нефть</td>\n",
              "      <td>331</td>\n",
              "    </tr>\n",
              "    <tr>\n",
              "      <th>5</th>\n",
              "      <td>ИК СИБИНТЕК</td>\n",
              "      <td>327</td>\n",
              "    </tr>\n",
              "    <tr>\n",
              "      <th>6</th>\n",
              "      <td>МТС</td>\n",
              "      <td>292</td>\n",
              "    </tr>\n",
              "    <tr>\n",
              "      <th>7</th>\n",
              "      <td>DataArt</td>\n",
              "      <td>247</td>\n",
              "    </tr>\n",
              "    <tr>\n",
              "      <th>8</th>\n",
              "      <td>Совкомбанк Технологии</td>\n",
              "      <td>204</td>\n",
              "    </tr>\n",
              "    <tr>\n",
              "      <th>9</th>\n",
              "      <td>Первый Бит</td>\n",
              "      <td>176</td>\n",
              "    </tr>\n",
              "  </tbody>\n",
              "</table>\n",
              "</div>"
            ],
            "text/plain": [
              "            работодатели  количествo вакансий\n",
              "0                 Яндекс                 1933\n",
              "1             Ростелеком                  491\n",
              "2               Тинькофф                  444\n",
              "3                   СБЕР                  428\n",
              "4          Газпром нефть                  331\n",
              "5            ИК СИБИНТЕК                  327\n",
              "6                    МТС                  292\n",
              "7                DataArt                  247\n",
              "8  Совкомбанк Технологии                  204\n",
              "9             Первый Бит                  176"
            ]
          },
          "metadata": {},
          "output_type": "display_data"
        }
      ],
      "source": [
        "df_5_1= pd.read_sql_query(query_5_1, connection)\n",
        "display(df_5_1.head(10))"
      ]
    },
    {
      "cell_type": "markdown",
      "id": "68377cfc-b378-43dc-ab7d-1195abf2c515",
      "metadata": {
        "id": "68377cfc-b378-43dc-ab7d-1195abf2c515"
      },
      "source": [
        "2. Напишите запрос, который для каждого региона выведет количество работодателей и вакансий в нём.\n",
        "Среди регионов, в которых нет вакансий, найдите тот, в котором наибольшее количество работодателей.\n"
      ]
    },
    {
      "cell_type": "code",
      "execution_count": 24,
      "id": "dd7df27a-e3e8-412e-a21a-5d389b71e891",
      "metadata": {
        "id": "dd7df27a-e3e8-412e-a21a-5d389b71e891"
      },
      "outputs": [],
      "source": [
        "query_5_2 = f'''select a.name регион,\n",
        "       count(distinct e.id) количествo_работодателей,\n",
        "       count(distinct v.id) количествo_вакансий\n",
        "from areas a\n",
        "     left join employers e on a.id = e.area\n",
        "     left join vacancies v on v.area_id = a.id\n",
        "where (v.id is null)\n",
        "group by a.id\n",
        "\n",
        "order by 2 desc  \n",
        "'''"
      ]
    },
    {
      "cell_type": "code",
      "execution_count": 25,
      "id": "x1ikWbydrbf6",
      "metadata": {
        "id": "x1ikWbydrbf6"
      },
      "outputs": [
        {
          "data": {
            "text/html": [
              "<div>\n",
              "<style scoped>\n",
              "    .dataframe tbody tr th:only-of-type {\n",
              "        vertical-align: middle;\n",
              "    }\n",
              "\n",
              "    .dataframe tbody tr th {\n",
              "        vertical-align: top;\n",
              "    }\n",
              "\n",
              "    .dataframe thead th {\n",
              "        text-align: right;\n",
              "    }\n",
              "</style>\n",
              "<table border=\"1\" class=\"dataframe\">\n",
              "  <thead>\n",
              "    <tr style=\"text-align: right;\">\n",
              "      <th></th>\n",
              "      <th>регион</th>\n",
              "      <th>количествo_работодателей</th>\n",
              "      <th>количествo_вакансий</th>\n",
              "    </tr>\n",
              "  </thead>\n",
              "  <tbody>\n",
              "    <tr>\n",
              "      <th>0</th>\n",
              "      <td>Россия</td>\n",
              "      <td>410</td>\n",
              "      <td>0</td>\n",
              "    </tr>\n",
              "    <tr>\n",
              "      <th>1</th>\n",
              "      <td>Казахстан</td>\n",
              "      <td>207</td>\n",
              "      <td>0</td>\n",
              "    </tr>\n",
              "    <tr>\n",
              "      <th>2</th>\n",
              "      <td>Московская область</td>\n",
              "      <td>75</td>\n",
              "      <td>0</td>\n",
              "    </tr>\n",
              "    <tr>\n",
              "      <th>3</th>\n",
              "      <td>Краснодарский край</td>\n",
              "      <td>19</td>\n",
              "      <td>0</td>\n",
              "    </tr>\n",
              "    <tr>\n",
              "      <th>4</th>\n",
              "      <td>Ростовская область</td>\n",
              "      <td>18</td>\n",
              "      <td>0</td>\n",
              "    </tr>\n",
              "    <tr>\n",
              "      <th>...</th>\n",
              "      <td>...</td>\n",
              "      <td>...</td>\n",
              "      <td>...</td>\n",
              "    </tr>\n",
              "    <tr>\n",
              "      <th>588</th>\n",
              "      <td>Скидель</td>\n",
              "      <td>0</td>\n",
              "      <td>0</td>\n",
              "    </tr>\n",
              "    <tr>\n",
              "      <th>589</th>\n",
              "      <td>Белоозерск</td>\n",
              "      <td>0</td>\n",
              "      <td>0</td>\n",
              "    </tr>\n",
              "    <tr>\n",
              "      <th>590</th>\n",
              "      <td>Орловский</td>\n",
              "      <td>0</td>\n",
              "      <td>0</td>\n",
              "    </tr>\n",
              "    <tr>\n",
              "      <th>591</th>\n",
              "      <td>Павловская</td>\n",
              "      <td>0</td>\n",
              "      <td>0</td>\n",
              "    </tr>\n",
              "    <tr>\n",
              "      <th>592</th>\n",
              "      <td>Таксимо</td>\n",
              "      <td>0</td>\n",
              "      <td>0</td>\n",
              "    </tr>\n",
              "  </tbody>\n",
              "</table>\n",
              "<p>593 rows × 3 columns</p>\n",
              "</div>"
            ],
            "text/plain": [
              "                 регион  количествo_работодателей  количествo_вакансий\n",
              "0                Россия                       410                    0\n",
              "1             Казахстан                       207                    0\n",
              "2    Московская область                        75                    0\n",
              "3    Краснодарский край                        19                    0\n",
              "4    Ростовская область                        18                    0\n",
              "..                  ...                       ...                  ...\n",
              "588             Скидель                         0                    0\n",
              "589          Белоозерск                         0                    0\n",
              "590           Орловский                         0                    0\n",
              "591          Павловская                         0                    0\n",
              "592             Таксимо                         0                    0\n",
              "\n",
              "[593 rows x 3 columns]"
            ]
          },
          "execution_count": 25,
          "metadata": {},
          "output_type": "execute_result"
        }
      ],
      "source": [
        "df_5_2= pd.read_sql_query(query_5_2, connection)\n",
        "df_5_2"
      ]
    },
    {
      "cell_type": "markdown",
      "id": "f2fe0acb-ab1a-4e15-9326-2560e22d73c1",
      "metadata": {
        "id": "f2fe0acb-ab1a-4e15-9326-2560e22d73c1"
      },
      "source": [
        "3. Для каждого работодателя посчитайте количество регионов, в которых он публикует свои вакансии. Отсортируйте результат по убыванию количества.\n"
      ]
    },
    {
      "cell_type": "code",
      "execution_count": 26,
      "id": "6271f8ad-bd2e-4196-ae4a-5b39c4c1010e",
      "metadata": {
        "id": "6271f8ad-bd2e-4196-ae4a-5b39c4c1010e"
      },
      "outputs": [],
      "source": [
        "query_5_3 = f'''select \n",
        "     e.name название_работодателя,\n",
        "     count(distinct v.area_id) количествo_регионов\n",
        "       \n",
        "from  employers e  /*обьединяем таблици работадателей и вакансий */\n",
        "     left join vacancies v on v.employer_id = e.id\n",
        "/*where v.area_id is null*/\n",
        "group by 1 /*групмоуем по наменовнию работадателей*/\n",
        "order by 2 desc /* сортируем по уменьшению количества регионов*/\n",
        "'''"
      ]
    },
    {
      "cell_type": "code",
      "execution_count": 27,
      "id": "1EIvX3HasH4F",
      "metadata": {
        "id": "1EIvX3HasH4F"
      },
      "outputs": [
        {
          "data": {
            "text/html": [
              "<div>\n",
              "<style scoped>\n",
              "    .dataframe tbody tr th:only-of-type {\n",
              "        vertical-align: middle;\n",
              "    }\n",
              "\n",
              "    .dataframe tbody tr th {\n",
              "        vertical-align: top;\n",
              "    }\n",
              "\n",
              "    .dataframe thead th {\n",
              "        text-align: right;\n",
              "    }\n",
              "</style>\n",
              "<table border=\"1\" class=\"dataframe\">\n",
              "  <thead>\n",
              "    <tr style=\"text-align: right;\">\n",
              "      <th></th>\n",
              "      <th>название_работодателя</th>\n",
              "      <th>количествo_регионов</th>\n",
              "    </tr>\n",
              "  </thead>\n",
              "  <tbody>\n",
              "    <tr>\n",
              "      <th>0</th>\n",
              "      <td>Яндекс</td>\n",
              "      <td>181</td>\n",
              "    </tr>\n",
              "    <tr>\n",
              "      <th>1</th>\n",
              "      <td>Ростелеком</td>\n",
              "      <td>152</td>\n",
              "    </tr>\n",
              "    <tr>\n",
              "      <th>2</th>\n",
              "      <td>Спецремонт</td>\n",
              "      <td>116</td>\n",
              "    </tr>\n",
              "    <tr>\n",
              "      <th>3</th>\n",
              "      <td>Поляков Денис Иванович</td>\n",
              "      <td>88</td>\n",
              "    </tr>\n",
              "    <tr>\n",
              "      <th>4</th>\n",
              "      <td>ООО ЕФИН</td>\n",
              "      <td>71</td>\n",
              "    </tr>\n",
              "    <tr>\n",
              "      <th>...</th>\n",
              "      <td>...</td>\n",
              "      <td>...</td>\n",
              "    </tr>\n",
              "    <tr>\n",
              "      <th>23170</th>\n",
              "      <td>СДЕЛКА</td>\n",
              "      <td>0</td>\n",
              "    </tr>\n",
              "    <tr>\n",
              "      <th>23171</th>\n",
              "      <td>Alandr Group</td>\n",
              "      <td>0</td>\n",
              "    </tr>\n",
              "    <tr>\n",
              "      <th>23172</th>\n",
              "      <td>СДК</td>\n",
              "      <td>0</td>\n",
              "    </tr>\n",
              "    <tr>\n",
              "      <th>23173</th>\n",
              "      <td>Lemon Land Lombard</td>\n",
              "      <td>0</td>\n",
              "    </tr>\n",
              "    <tr>\n",
              "      <th>23174</th>\n",
              "      <td>Махина</td>\n",
              "      <td>0</td>\n",
              "    </tr>\n",
              "  </tbody>\n",
              "</table>\n",
              "<p>23175 rows × 2 columns</p>\n",
              "</div>"
            ],
            "text/plain": [
              "        название_работодателя  количествo_регионов\n",
              "0                      Яндекс                  181\n",
              "1                  Ростелеком                  152\n",
              "2                  Спецремонт                  116\n",
              "3      Поляков Денис Иванович                   88\n",
              "4                   ООО ЕФИН                    71\n",
              "...                       ...                  ...\n",
              "23170                  СДЕЛКА                    0\n",
              "23171            Alandr Group                    0\n",
              "23172                     СДК                    0\n",
              "23173      Lemon Land Lombard                    0\n",
              "23174                  Махина                    0\n",
              "\n",
              "[23175 rows x 2 columns]"
            ]
          },
          "execution_count": 27,
          "metadata": {},
          "output_type": "execute_result"
        }
      ],
      "source": [
        "df_5_3= pd.read_sql_query(query_5_3, connection)\n",
        "df_5_3"
      ]
    },
    {
      "cell_type": "markdown",
      "id": "eab2206d-d95b-468b-8e5f-34381abf0ce7",
      "metadata": {
        "id": "eab2206d-d95b-468b-8e5f-34381abf0ce7"
      },
      "source": [
        "4. Напишите запрос для подсчёта количества работодателей, у которых не указана сфера деятельности. "
      ]
    },
    {
      "cell_type": "code",
      "execution_count": 28,
      "id": "80defb23-bfb1-4a18-8be6-bf36aa7165d5",
      "metadata": {
        "id": "80defb23-bfb1-4a18-8be6-bf36aa7165d5"
      },
      "outputs": [],
      "source": [
        "query_5_4 = f'''select \n",
        "    e.name название_работодателя\n",
        "       \n",
        "from employers e left join\n",
        "    EMPLOYERS_INDUSTRIES ei on e.id = ei.employer_id\n",
        "where ei.industry_id is null\n",
        "\n",
        "'''"
      ]
    },
    {
      "cell_type": "code",
      "execution_count": 29,
      "id": "Dp_yCx6ysQSu",
      "metadata": {
        "id": "Dp_yCx6ysQSu"
      },
      "outputs": [
        {
          "data": {
            "text/html": [
              "<div>\n",
              "<style scoped>\n",
              "    .dataframe tbody tr th:only-of-type {\n",
              "        vertical-align: middle;\n",
              "    }\n",
              "\n",
              "    .dataframe tbody tr th {\n",
              "        vertical-align: top;\n",
              "    }\n",
              "\n",
              "    .dataframe thead th {\n",
              "        text-align: right;\n",
              "    }\n",
              "</style>\n",
              "<table border=\"1\" class=\"dataframe\">\n",
              "  <thead>\n",
              "    <tr style=\"text-align: right;\">\n",
              "      <th></th>\n",
              "      <th>название_работодателя</th>\n",
              "    </tr>\n",
              "  </thead>\n",
              "  <tbody>\n",
              "    <tr>\n",
              "      <th>0</th>\n",
              "      <td>Вертикаль</td>\n",
              "    </tr>\n",
              "    <tr>\n",
              "      <th>1</th>\n",
              "      <td>Нозиков Денис Михайлович</td>\n",
              "    </tr>\n",
              "    <tr>\n",
              "      <th>2</th>\n",
              "      <td>МВД России по Республике Башкортостан</td>\n",
              "    </tr>\n",
              "    <tr>\n",
              "      <th>3</th>\n",
              "      <td>ГКУ «Центр цифровой трансформации РТ»</td>\n",
              "    </tr>\n",
              "    <tr>\n",
              "      <th>4</th>\n",
              "      <td>Театральный музей им. А.А. Бахрушина, ФГБУК ГЦТМ</td>\n",
              "    </tr>\n",
              "    <tr>\n",
              "      <th>...</th>\n",
              "      <td>...</td>\n",
              "    </tr>\n",
              "    <tr>\n",
              "      <th>8414</th>\n",
              "      <td>СвязьИнформ</td>\n",
              "    </tr>\n",
              "    <tr>\n",
              "      <th>8415</th>\n",
              "      <td>ГОКУ ЦОСУМС</td>\n",
              "    </tr>\n",
              "    <tr>\n",
              "      <th>8416</th>\n",
              "      <td>Сыктывкарская Швейная Фабрика Текстиль Коми</td>\n",
              "    </tr>\n",
              "    <tr>\n",
              "      <th>8417</th>\n",
              "      <td>FINOM TECH LTD</td>\n",
              "    </tr>\n",
              "    <tr>\n",
              "      <th>8418</th>\n",
              "      <td>Группа компаний Планета</td>\n",
              "    </tr>\n",
              "  </tbody>\n",
              "</table>\n",
              "<p>8419 rows × 1 columns</p>\n",
              "</div>"
            ],
            "text/plain": [
              "                                 название_работодателя\n",
              "0                                            Вертикаль\n",
              "1                             Нозиков Денис Михайлович\n",
              "2                МВД России по Республике Башкортостан\n",
              "3                ГКУ «Центр цифровой трансформации РТ»\n",
              "4     Театральный музей им. А.А. Бахрушина, ФГБУК ГЦТМ\n",
              "...                                                ...\n",
              "8414                                       СвязьИнформ\n",
              "8415                                       ГОКУ ЦОСУМС\n",
              "8416       Сыктывкарская Швейная Фабрика Текстиль Коми\n",
              "8417                                    FINOM TECH LTD\n",
              "8418                           Группа компаний Планета\n",
              "\n",
              "[8419 rows x 1 columns]"
            ]
          },
          "execution_count": 29,
          "metadata": {},
          "output_type": "execute_result"
        }
      ],
      "source": [
        "df_5_4= pd.read_sql_query(query_5_4, connection)\n",
        "df_5_4"
      ]
    },
    {
      "cell_type": "markdown",
      "id": "0112af31-f6b0-4e3b-82ab-71296e752e5e",
      "metadata": {
        "id": "0112af31-f6b0-4e3b-82ab-71296e752e5e"
      },
      "source": [
        "5. Напишите запрос, чтобы узнать название компании, находящейся на третьем месте в алфавитном списке (по названию) компаний, у которых указано четыре сферы деятельности. "
      ]
    },
    {
      "cell_type": "code",
      "execution_count": 30,
      "id": "973b0cfc-a972-470a-8b4a-68744ef220c4",
      "metadata": {
        "id": "973b0cfc-a972-470a-8b4a-68744ef220c4"
      },
      "outputs": [],
      "source": [
        "query_5_5 = f'''select \n",
        "    e.name\n",
        "from employers e left join\n",
        "    EMPLOYERS_INDUSTRIES ei on e.id = ei.employer_id\n",
        "group by 1\n",
        "having count(ei.industry_id)=4\n",
        "order by 1 \n",
        "/*offset 2 limit 1*/\n",
        "'''"
      ]
    },
    {
      "cell_type": "code",
      "execution_count": 31,
      "id": "xsPtpp8EsaED",
      "metadata": {
        "id": "xsPtpp8EsaED"
      },
      "outputs": [
        {
          "data": {
            "text/html": [
              "<div>\n",
              "<style scoped>\n",
              "    .dataframe tbody tr th:only-of-type {\n",
              "        vertical-align: middle;\n",
              "    }\n",
              "\n",
              "    .dataframe tbody tr th {\n",
              "        vertical-align: top;\n",
              "    }\n",
              "\n",
              "    .dataframe thead th {\n",
              "        text-align: right;\n",
              "    }\n",
              "</style>\n",
              "<table border=\"1\" class=\"dataframe\">\n",
              "  <thead>\n",
              "    <tr style=\"text-align: right;\">\n",
              "      <th></th>\n",
              "      <th>name</th>\n",
              "    </tr>\n",
              "  </thead>\n",
              "  <tbody>\n",
              "    <tr>\n",
              "      <th>0</th>\n",
              "      <td>101 Интернет</td>\n",
              "    </tr>\n",
              "    <tr>\n",
              "      <th>1</th>\n",
              "      <td>21vek.by</td>\n",
              "    </tr>\n",
              "    <tr>\n",
              "      <th>2</th>\n",
              "      <td>2ГИС</td>\n",
              "    </tr>\n",
              "    <tr>\n",
              "      <th>3</th>\n",
              "      <td>2К</td>\n",
              "    </tr>\n",
              "    <tr>\n",
              "      <th>4</th>\n",
              "      <td>4 пикселя +</td>\n",
              "    </tr>\n",
              "    <tr>\n",
              "      <th>...</th>\n",
              "      <td>...</td>\n",
              "    </tr>\n",
              "    <tr>\n",
              "      <th>1131</th>\n",
              "      <td>ЮРИОН</td>\n",
              "    </tr>\n",
              "    <tr>\n",
              "      <th>1132</th>\n",
              "      <td>ЮТИП Технологии</td>\n",
              "    </tr>\n",
              "    <tr>\n",
              "      <th>1133</th>\n",
              "      <td>ЯКласс</td>\n",
              "    </tr>\n",
              "    <tr>\n",
              "      <th>1134</th>\n",
              "      <td>ЯрНео</td>\n",
              "    </tr>\n",
              "    <tr>\n",
              "      <th>1135</th>\n",
              "      <td>Яшин&amp;Партнёры</td>\n",
              "    </tr>\n",
              "  </tbody>\n",
              "</table>\n",
              "<p>1136 rows × 1 columns</p>\n",
              "</div>"
            ],
            "text/plain": [
              "                 name\n",
              "0        101 Интернет\n",
              "1            21vek.by\n",
              "2                2ГИС\n",
              "3                  2К\n",
              "4         4 пикселя +\n",
              "...               ...\n",
              "1131            ЮРИОН\n",
              "1132  ЮТИП Технологии\n",
              "1133           ЯКласс\n",
              "1134            ЯрНео\n",
              "1135    Яшин&Партнёры\n",
              "\n",
              "[1136 rows x 1 columns]"
            ]
          },
          "execution_count": 31,
          "metadata": {},
          "output_type": "execute_result"
        }
      ],
      "source": [
        "df_5_5= pd.read_sql_query(query_5_5, connection)\n",
        "df_5_5"
      ]
    },
    {
      "cell_type": "markdown",
      "id": "3bfcfdaf-755d-4d2b-8ed8-326201dc07ab",
      "metadata": {
        "id": "3bfcfdaf-755d-4d2b-8ed8-326201dc07ab"
      },
      "source": [
        "6. С помощью запроса выясните, у какого количества работодателей в качестве сферы деятельности указана Разработка программного обеспечения.\n"
      ]
    },
    {
      "cell_type": "code",
      "execution_count": 32,
      "id": "ad3f270f-2991-47eb-929b-e8f88a55b0d1",
      "metadata": {
        "id": "ad3f270f-2991-47eb-929b-e8f88a55b0d1"
      },
      "outputs": [],
      "source": [
        "query_5_6 = f'''select \n",
        "   count(*)\n",
        "from employers e left join\n",
        "    EMPLOYERS_INDUSTRIES ei on e.id = ei.employer_id \n",
        "    left join industries i on ei.industry_id=i.id\n",
        "where i.name like 'Разработка программного обеспечения'\n",
        "''' "
      ]
    },
    {
      "cell_type": "code",
      "execution_count": 33,
      "id": "H72qxWM0shPR",
      "metadata": {
        "id": "H72qxWM0shPR"
      },
      "outputs": [
        {
          "data": {
            "text/html": [
              "<div>\n",
              "<style scoped>\n",
              "    .dataframe tbody tr th:only-of-type {\n",
              "        vertical-align: middle;\n",
              "    }\n",
              "\n",
              "    .dataframe tbody tr th {\n",
              "        vertical-align: top;\n",
              "    }\n",
              "\n",
              "    .dataframe thead th {\n",
              "        text-align: right;\n",
              "    }\n",
              "</style>\n",
              "<table border=\"1\" class=\"dataframe\">\n",
              "  <thead>\n",
              "    <tr style=\"text-align: right;\">\n",
              "      <th></th>\n",
              "      <th>count</th>\n",
              "    </tr>\n",
              "  </thead>\n",
              "  <tbody>\n",
              "    <tr>\n",
              "      <th>0</th>\n",
              "      <td>3553</td>\n",
              "    </tr>\n",
              "  </tbody>\n",
              "</table>\n",
              "</div>"
            ],
            "text/plain": [
              "   count\n",
              "0   3553"
            ]
          },
          "execution_count": 33,
          "metadata": {},
          "output_type": "execute_result"
        }
      ],
      "source": [
        "df_5_6= pd.read_sql_query(query_5_6, connection)\n",
        "df_5_6"
      ]
    },
    {
      "cell_type": "markdown",
      "id": "7b02bb86-0546-40fb-94a4-242f050a5c57",
      "metadata": {
        "id": "7b02bb86-0546-40fb-94a4-242f050a5c57"
      },
      "source": [
        "7. Для компании «Яндекс» выведите список регионов-миллионников, в которых представлены вакансии компании, вместе с количеством вакансий в этих регионах. Также добавьте строку Total с общим количеством вакансий компании. Результат отсортируйте по возрастанию количества.\n",
        "\n",
        "Список городов-милионников надо взять [отсюда](https://ru.wikipedia.org/wiki/%D0%93%D0%BE%D1%80%D0%BE%D0%B4%D0%B0-%D0%BC%D0%B8%D0%BB%D0%BB%D0%B8%D0%BE%D0%BD%D0%B5%D1%80%D1%8B_%D0%A0%D0%BE%D1%81%D1%81%D0%B8%D0%B8). \n",
        "\n",
        "Если возникнут трудности с этим задание посмотрите материалы модуля  PYTHON-17. Как получать данные из веб-источников и API. "
      ]
    },
    {
      "cell_type": "code",
      "execution_count": 34,
      "id": "ZdfrL6gIs1Pn",
      "metadata": {
        "id": "ZdfrL6gIs1Pn"
      },
      "outputs": [
        {
          "data": {
            "text/plain": [
              "['Москва',\n",
              " 'Санкт-Петербург',\n",
              " 'Новосибирск',\n",
              " 'Екатеринбург',\n",
              " 'Казань',\n",
              " 'Нижний Новгород',\n",
              " 'Красноярск',\n",
              " 'Челябинск',\n",
              " 'Самара',\n",
              " 'Уфа',\n",
              " 'Ростов-на-Дону',\n",
              " 'Краснодар',\n",
              " 'Омск',\n",
              " 'Воронеж',\n",
              " 'Пермь',\n",
              " 'Волгоград']"
            ]
          },
          "execution_count": 34,
          "metadata": {},
          "output_type": "execute_result"
        }
      ],
      "source": [
        "from urllib.parse import quote_plus\n",
        "url = quote_plus('https://ru.wikipedia.org/wiki/Города-миллионеры_России', safe=':/')\n",
        "tables = pd.read_html(url)\n",
        "mln_cities = tables[1]['Город'].values.tolist()\n",
        "mln_cities"
      ]
    },
    {
      "cell_type": "code",
      "execution_count": 35,
      "id": "5a0e32a4-e68a-4365-8a39-2fe24c542c36",
      "metadata": {
        "id": "5a0e32a4-e68a-4365-8a39-2fe24c542c36"
      },
      "outputs": [],
      "source": [
        "query_5_7 = f'''select  \n",
        "    a.name \"регион\",\n",
        "    count(*) \"количество вакансий\"\n",
        "from vacancies v left join  EMPLOYERS e on v.employer_id=e.id /* обединяем три таблицы вакансии регионы работадатели*/\n",
        "    left join areas a on a.id=v.area_id\n",
        "where (a.name in  ('Москва', 'Санкт-Петербург', 'Новосибирск', 'Екатеринбург', 'Казань', 'Нижний Новгород', 'Красноярск', 'Челябинск', 'Самара', 'Уфа', 'Ростов-на-Дону', 'Краснодар', 'Омск', 'Воронеж', 'Пермь', 'Волгоград'))and e.name like 'Яндекс'\n",
        "group by a.name\n",
        "union all\n",
        "select\n",
        "    'total',\n",
        "    count(*)\n",
        "from vacancies v left join  EMPLOYERS e on v.employer_id=e.id\n",
        "    left join areas a on a.id=v.area_id\n",
        "where (a.name in ('Москва', 'Санкт-Петербург', 'Новосибирск', 'Екатеринбург', 'Казань', 'Нижний Новгород', 'Красноярск', 'Челябинск', 'Самара', 'Уфа', 'Ростов-на-Дону', 'Краснодар', 'Омск', 'Воронеж', 'Пермь', 'Волгоград'))and e.name like 'Яндекс'\n",
        "order by 2 desc\n",
        "''' "
      ]
    },
    {
      "cell_type": "code",
      "execution_count": 36,
      "id": "ttPhiO1rsvPq",
      "metadata": {
        "id": "ttPhiO1rsvPq"
      },
      "outputs": [
        {
          "data": {
            "text/html": [
              "<div>\n",
              "<style scoped>\n",
              "    .dataframe tbody tr th:only-of-type {\n",
              "        vertical-align: middle;\n",
              "    }\n",
              "\n",
              "    .dataframe tbody tr th {\n",
              "        vertical-align: top;\n",
              "    }\n",
              "\n",
              "    .dataframe thead th {\n",
              "        text-align: right;\n",
              "    }\n",
              "</style>\n",
              "<table border=\"1\" class=\"dataframe\">\n",
              "  <thead>\n",
              "    <tr style=\"text-align: right;\">\n",
              "      <th></th>\n",
              "      <th>регион</th>\n",
              "      <th>количество вакансий</th>\n",
              "    </tr>\n",
              "  </thead>\n",
              "  <tbody>\n",
              "    <tr>\n",
              "      <th>0</th>\n",
              "      <td>total</td>\n",
              "      <td>485</td>\n",
              "    </tr>\n",
              "    <tr>\n",
              "      <th>1</th>\n",
              "      <td>Москва</td>\n",
              "      <td>54</td>\n",
              "    </tr>\n",
              "    <tr>\n",
              "      <th>2</th>\n",
              "      <td>Санкт-Петербург</td>\n",
              "      <td>42</td>\n",
              "    </tr>\n",
              "    <tr>\n",
              "      <th>3</th>\n",
              "      <td>Екатеринбург</td>\n",
              "      <td>39</td>\n",
              "    </tr>\n",
              "    <tr>\n",
              "      <th>4</th>\n",
              "      <td>Нижний Новгород</td>\n",
              "      <td>36</td>\n",
              "    </tr>\n",
              "    <tr>\n",
              "      <th>5</th>\n",
              "      <td>Новосибирск</td>\n",
              "      <td>35</td>\n",
              "    </tr>\n",
              "    <tr>\n",
              "      <th>6</th>\n",
              "      <td>Воронеж</td>\n",
              "      <td>32</td>\n",
              "    </tr>\n",
              "    <tr>\n",
              "      <th>7</th>\n",
              "      <td>Краснодар</td>\n",
              "      <td>30</td>\n",
              "    </tr>\n",
              "    <tr>\n",
              "      <th>8</th>\n",
              "      <td>Самара</td>\n",
              "      <td>26</td>\n",
              "    </tr>\n",
              "    <tr>\n",
              "      <th>9</th>\n",
              "      <td>Уфа</td>\n",
              "      <td>26</td>\n",
              "    </tr>\n",
              "    <tr>\n",
              "      <th>10</th>\n",
              "      <td>Пермь</td>\n",
              "      <td>25</td>\n",
              "    </tr>\n",
              "    <tr>\n",
              "      <th>11</th>\n",
              "      <td>Казань</td>\n",
              "      <td>25</td>\n",
              "    </tr>\n",
              "    <tr>\n",
              "      <th>12</th>\n",
              "      <td>Ростов-на-Дону</td>\n",
              "      <td>25</td>\n",
              "    </tr>\n",
              "    <tr>\n",
              "      <th>13</th>\n",
              "      <td>Волгоград</td>\n",
              "      <td>24</td>\n",
              "    </tr>\n",
              "    <tr>\n",
              "      <th>14</th>\n",
              "      <td>Красноярск</td>\n",
              "      <td>23</td>\n",
              "    </tr>\n",
              "    <tr>\n",
              "      <th>15</th>\n",
              "      <td>Челябинск</td>\n",
              "      <td>22</td>\n",
              "    </tr>\n",
              "    <tr>\n",
              "      <th>16</th>\n",
              "      <td>Омск</td>\n",
              "      <td>21</td>\n",
              "    </tr>\n",
              "  </tbody>\n",
              "</table>\n",
              "</div>"
            ],
            "text/plain": [
              "             регион  количество вакансий\n",
              "0             total                  485\n",
              "1            Москва                   54\n",
              "2   Санкт-Петербург                   42\n",
              "3      Екатеринбург                   39\n",
              "4   Нижний Новгород                   36\n",
              "5       Новосибирск                   35\n",
              "6           Воронеж                   32\n",
              "7         Краснодар                   30\n",
              "8            Самара                   26\n",
              "9               Уфа                   26\n",
              "10            Пермь                   25\n",
              "11           Казань                   25\n",
              "12   Ростов-на-Дону                   25\n",
              "13        Волгоград                   24\n",
              "14       Красноярск                   23\n",
              "15        Челябинск                   22\n",
              "16             Омск                   21"
            ]
          },
          "execution_count": 36,
          "metadata": {},
          "output_type": "execute_result"
        }
      ],
      "source": [
        "df_5_7= pd.read_sql_query(query_5_7, connection)\n",
        "df_5_7"
      ]
    },
    {
      "cell_type": "markdown",
      "id": "04966e40-3bc3-4dc8-9ba2-e80580ce3abc",
      "metadata": {
        "id": "04966e40-3bc3-4dc8-9ba2-e80580ce3abc"
      },
      "source": [
        "***"
      ]
    },
    {
      "cell_type": "markdown",
      "id": "aGGyER-yt4SR",
      "metadata": {
        "id": "aGGyER-yt4SR"
      },
      "source": [
        "## Анализ работодателей:\n",
        "1.\tПо количеству вакансий на первые места попадают крупные компании такие как:\n",
        "*\tЯндекс\n",
        "*\tРостелеком\n",
        "*\tТинькофф\n",
        "*\tСБЕР\n",
        "*\tИ т.д.  \n",
        "У каждой компаний более 400 вакансий и сами компании встречаются по всей стране, найти в этих компаниях работу проще. По регионам компании распределены не равномерно в 593 регионах нет вакансий, а это возможно потому что работодатели нашли работников и пока у них нет вакансий. Поэтому чтобы устроится работать в этих регионах надо либо переезжать в другой город, либо работать по удаленьки, либо работать вахтовым методом.  \n",
        "2.\tУ крупных кампаний распространение на большее количество регионов, например:\n",
        "*\tЯндекс 181 регион\n",
        "*\tРостелеком 152 региона\n",
        "*\tСпецремонт 116 регионов\n",
        "*\tИ т.д.\n",
        "\n",
        "3.\tМногие компании занимаются разной деятельностью даже не в IT сфере у некоторых несколько сфер деятельности, а некоторые вообще не указывают свою сферу деятельности конечно можно определить из названия компании, но не всегда на пример **Нозиков Денис Михайлович**. Достаточное количество компаний занимаются разработкой программного обеспечения 3553 компании куда требуются специалисты \n",
        "4.\tВозьмём, например, Яндекс ему требуются много специалистов и во всех городах миллионщиках нужны специалисты от 21 до 53 человек и вообще у него 1933 вакансии по всей стране. Яндекс набирает много людей, что в последствии может его еще выше поднять в IT сфере. "
      ]
    },
    {
      "cell_type": "markdown",
      "id": "b1ef156a-efcb-49ce-bb23-90763e7f35b2",
      "metadata": {
        "id": "b1ef156a-efcb-49ce-bb23-90763e7f35b2",
        "tags": []
      },
      "source": [
        "# Юнит 6. Предметный анализ"
      ]
    },
    {
      "cell_type": "markdown",
      "id": "b9cd50a0-992d-4988-8463-2b2b1c4629b4",
      "metadata": {
        "id": "b9cd50a0-992d-4988-8463-2b2b1c4629b4"
      },
      "source": [
        "1. Сколько вакансий имеет отношение к данным?\n",
        "\n",
        "Считаем, что вакансия имеет отношение к данным, если в её названии содержатся слова 'data' или 'данн'.\n",
        "\n",
        "*Подсказка: Обратите внимание, что названия вакансий могут быть написаны в любом регистре.* \n"
      ]
    },
    {
      "cell_type": "code",
      "execution_count": 37,
      "id": "54ab0e50-c0f1-47cc-a54b-bc5c8bc363f9",
      "metadata": {
        "id": "54ab0e50-c0f1-47cc-a54b-bc5c8bc363f9"
      },
      "outputs": [],
      "source": [
        "query_6_1 = f'''select  \n",
        "    count(*) cnt /*считаем количество вакансий*/\n",
        "from vacancies\n",
        "where lower(name) like '%data%' or lower(name) like '%данн%'/*выделяем вакансии в названии которых есть\n",
        "                        сочетание 'data' и 'данн'*/\n",
        "'''"
      ]
    },
    {
      "cell_type": "code",
      "execution_count": 38,
      "id": "9F1meAqsuUjd",
      "metadata": {
        "id": "9F1meAqsuUjd"
      },
      "outputs": [
        {
          "data": {
            "text/html": [
              "<div>\n",
              "<style scoped>\n",
              "    .dataframe tbody tr th:only-of-type {\n",
              "        vertical-align: middle;\n",
              "    }\n",
              "\n",
              "    .dataframe tbody tr th {\n",
              "        vertical-align: top;\n",
              "    }\n",
              "\n",
              "    .dataframe thead th {\n",
              "        text-align: right;\n",
              "    }\n",
              "</style>\n",
              "<table border=\"1\" class=\"dataframe\">\n",
              "  <thead>\n",
              "    <tr style=\"text-align: right;\">\n",
              "      <th></th>\n",
              "      <th>cnt</th>\n",
              "    </tr>\n",
              "  </thead>\n",
              "  <tbody>\n",
              "    <tr>\n",
              "      <th>0</th>\n",
              "      <td>1771</td>\n",
              "    </tr>\n",
              "  </tbody>\n",
              "</table>\n",
              "</div>"
            ],
            "text/plain": [
              "    cnt\n",
              "0  1771"
            ]
          },
          "execution_count": 38,
          "metadata": {},
          "output_type": "execute_result"
        }
      ],
      "source": [
        "df_6_1= pd.read_sql_query(query_6_1, connection)\n",
        "df_6_1"
      ]
    },
    {
      "cell_type": "markdown",
      "id": "4dea20cb-a36b-474a-a0b9-e08e8e3857a5",
      "metadata": {
        "id": "4dea20cb-a36b-474a-a0b9-e08e8e3857a5"
      },
      "source": [
        "2. Сколько есть подходящих вакансий для начинающего дата-сайентиста? \n",
        "Будем считать вакансиями для дата-сайентистов такие, в названии которых есть хотя бы одно из следующих сочетаний:\n",
        "* 'data scientist'\n",
        "* 'data science'\n",
        "* 'исследователь данных'\n",
        "* 'ML' (здесь не нужно брать вакансии по HTML)\n",
        "* 'machine learning'\n",
        "* 'машинн%обучен%'\n",
        "\n",
        "** В следующих заданиях мы продолжим работать с вакансиями по этому условию.*\n",
        "\n",
        "Считаем вакансиями для специалистов уровня Junior следующие:\n",
        "* в названии есть слово 'junior' *или*\n",
        "* требуемый опыт — Нет опыта *или*\n",
        "* тип трудоустройства — Стажировка.\n",
        " "
      ]
    },
    {
      "cell_type": "code",
      "execution_count": 39,
      "id": "9c61b3c0-bb66-46c9-ae1e-81d3f5752b4a",
      "metadata": {
        "id": "9c61b3c0-bb66-46c9-ae1e-81d3f5752b4a"
      },
      "outputs": [],
      "source": [
        "query_6_2 = f'''select  \n",
        "    count(name) cnt /*считаем количество вакансий*/\n",
        "from vacancies\n",
        "\n",
        "/*выделяем вакансии в названии которых есть сочетание 'data scientist', 'data science', \n",
        "'исследователь данных', 'machine learning', 'машинн%обучен' и 'ML' без 'HTML */\n",
        "where ((lower(name) like '%data scientist%') \n",
        "    or (lower(name) like '%data science%') \n",
        "    or (lower(name) like '%исследователь данных%') \n",
        "    or (lower(name) like '%machine learning%')\n",
        "    or ((lower(name) like '%ml%') and (lower(name)  not like '%html%'))\n",
        "    or (lower(name) like '%машинн%обучен%'))\n",
        "    \n",
        "/* выделяем вакансии для junior*/    \n",
        "    and((lower(name) like '%junior%')\n",
        "    or (experience like '%Нет опыта%' )\n",
        "    or (employment like '%Стажировка%')) \n",
        "    '''"
      ]
    },
    {
      "cell_type": "code",
      "execution_count": 40,
      "id": "ZNM-LLYuu1dj",
      "metadata": {
        "id": "ZNM-LLYuu1dj"
      },
      "outputs": [
        {
          "data": {
            "text/html": [
              "<div>\n",
              "<style scoped>\n",
              "    .dataframe tbody tr th:only-of-type {\n",
              "        vertical-align: middle;\n",
              "    }\n",
              "\n",
              "    .dataframe tbody tr th {\n",
              "        vertical-align: top;\n",
              "    }\n",
              "\n",
              "    .dataframe thead th {\n",
              "        text-align: right;\n",
              "    }\n",
              "</style>\n",
              "<table border=\"1\" class=\"dataframe\">\n",
              "  <thead>\n",
              "    <tr style=\"text-align: right;\">\n",
              "      <th></th>\n",
              "      <th>cnt</th>\n",
              "    </tr>\n",
              "  </thead>\n",
              "  <tbody>\n",
              "    <tr>\n",
              "      <th>0</th>\n",
              "      <td>51</td>\n",
              "    </tr>\n",
              "  </tbody>\n",
              "</table>\n",
              "</div>"
            ],
            "text/plain": [
              "   cnt\n",
              "0   51"
            ]
          },
          "execution_count": 40,
          "metadata": {},
          "output_type": "execute_result"
        }
      ],
      "source": [
        "df_6_2= pd.read_sql_query(query_6_2, connection)\n",
        "df_6_2"
      ]
    },
    {
      "cell_type": "markdown",
      "id": "eedceb80-c5ca-480e-b27a-278dfb8b4438",
      "metadata": {
        "id": "eedceb80-c5ca-480e-b27a-278dfb8b4438"
      },
      "source": [
        "3. Сколько есть вакансий для DS, в которых в качестве ключевого навыка указан SQL или postgres?\n",
        "\n",
        "** Критерии для отнесения вакансии к DS указаны в предыдущем задании.*"
      ]
    },
    {
      "cell_type": "code",
      "execution_count": 41,
      "id": "69621713-0cc5-4f1b-a1d7-bb144fa6148c",
      "metadata": {
        "id": "69621713-0cc5-4f1b-a1d7-bb144fa6148c"
      },
      "outputs": [],
      "source": [
        "query_6_3 = f'''select  \n",
        "    count(name) cnt /*считаем количество вакансий*/\n",
        "from vacancies\n",
        "/* выделяем вакансии DS*/\n",
        "where ((lower(name) like '%data scientist%') \n",
        "    or (lower(name) like '%data science%') \n",
        "    or (lower(name) like '%исследователь данных%') \n",
        "    or (lower(name) like '%machine learning%')\n",
        "    or ((name like '%ML%') and (lower(name)  not like '%html%'))\n",
        "    or (lower(name) like '%машинн%обучен%'))\n",
        "    \n",
        "    /* выделяем вакансии для SQL и postgres*/ \n",
        "    and((key_skills like '%SQL%') or (lower(key_skills) like '%postgres%'))\n",
        "    '''"
      ]
    },
    {
      "cell_type": "code",
      "execution_count": 42,
      "id": "alA8WEAAvGdf",
      "metadata": {
        "id": "alA8WEAAvGdf"
      },
      "outputs": [
        {
          "data": {
            "text/html": [
              "<div>\n",
              "<style scoped>\n",
              "    .dataframe tbody tr th:only-of-type {\n",
              "        vertical-align: middle;\n",
              "    }\n",
              "\n",
              "    .dataframe tbody tr th {\n",
              "        vertical-align: top;\n",
              "    }\n",
              "\n",
              "    .dataframe thead th {\n",
              "        text-align: right;\n",
              "    }\n",
              "</style>\n",
              "<table border=\"1\" class=\"dataframe\">\n",
              "  <thead>\n",
              "    <tr style=\"text-align: right;\">\n",
              "      <th></th>\n",
              "      <th>cnt</th>\n",
              "    </tr>\n",
              "  </thead>\n",
              "  <tbody>\n",
              "    <tr>\n",
              "      <th>0</th>\n",
              "      <td>201</td>\n",
              "    </tr>\n",
              "  </tbody>\n",
              "</table>\n",
              "</div>"
            ],
            "text/plain": [
              "   cnt\n",
              "0  201"
            ]
          },
          "execution_count": 42,
          "metadata": {},
          "output_type": "execute_result"
        }
      ],
      "source": [
        "df_6_3= pd.read_sql_query(query_6_3, connection)\n",
        "df_6_3"
      ]
    },
    {
      "cell_type": "markdown",
      "id": "1be1e9c6-37cf-4a5f-bfeb-04cab799dc80",
      "metadata": {
        "id": "1be1e9c6-37cf-4a5f-bfeb-04cab799dc80"
      },
      "source": [
        "4. Проверьте, насколько популярен Python в требованиях работодателей к DS.Для этого вычислите количество вакансий, в которых в качестве ключевого навыка указан Python.\n",
        "\n",
        "** Это можно сделать помощью запроса, аналогичного предыдущему.*"
      ]
    },
    {
      "cell_type": "code",
      "execution_count": 43,
      "id": "0036a355-9ccf-4564-8b01-73d8194297e7",
      "metadata": {
        "id": "0036a355-9ccf-4564-8b01-73d8194297e7"
      },
      "outputs": [],
      "source": [
        "query_6_4 = f'''select  \n",
        "   \n",
        "    count(name) cnt\n",
        "from vacancies\n",
        "/* выделяем вакансии DS*/\n",
        "where ((lower(name) like '%data scientist%') \n",
        "    or (lower(name) like '%data science%') \n",
        "    or (lower(name) like '%исследователь данных%') \n",
        "    or (lower(name) like '%machine learning%')\n",
        "    or ((name like '%ML%') and (lower(name)  not like '%html%'))\n",
        "    or (lower(name) like '%машинн%обучен%'))\n",
        "    \n",
        "    /* выделяем вакансии для Python */ \n",
        "    and((key_skills like '%Python%'))\n",
        "'''  "
      ]
    },
    {
      "cell_type": "code",
      "execution_count": 44,
      "id": "1i-5WyucvQ6v",
      "metadata": {
        "id": "1i-5WyucvQ6v"
      },
      "outputs": [
        {
          "data": {
            "text/html": [
              "<div>\n",
              "<style scoped>\n",
              "    .dataframe tbody tr th:only-of-type {\n",
              "        vertical-align: middle;\n",
              "    }\n",
              "\n",
              "    .dataframe tbody tr th {\n",
              "        vertical-align: top;\n",
              "    }\n",
              "\n",
              "    .dataframe thead th {\n",
              "        text-align: right;\n",
              "    }\n",
              "</style>\n",
              "<table border=\"1\" class=\"dataframe\">\n",
              "  <thead>\n",
              "    <tr style=\"text-align: right;\">\n",
              "      <th></th>\n",
              "      <th>cnt</th>\n",
              "    </tr>\n",
              "  </thead>\n",
              "  <tbody>\n",
              "    <tr>\n",
              "      <th>0</th>\n",
              "      <td>351</td>\n",
              "    </tr>\n",
              "  </tbody>\n",
              "</table>\n",
              "</div>"
            ],
            "text/plain": [
              "   cnt\n",
              "0  351"
            ]
          },
          "execution_count": 44,
          "metadata": {},
          "output_type": "execute_result"
        }
      ],
      "source": [
        "df_6_4= pd.read_sql_query(query_6_4, connection)\n",
        "df_6_4"
      ]
    },
    {
      "cell_type": "markdown",
      "id": "ec3c8db7-fa21-4a41-a994-1af63742a642",
      "metadata": {
        "id": "ec3c8db7-fa21-4a41-a994-1af63742a642"
      },
      "source": [
        "5. Сколько ключевых навыков в среднем указывают в вакансиях для DS?\n",
        "Ответ округлите до двух знаков после точки-разделителя."
      ]
    },
    {
      "cell_type": "code",
      "execution_count": 45,
      "id": "949132bc-d5b6-4611-8218-0b9a504d74f4",
      "metadata": {
        "id": "949132bc-d5b6-4611-8218-0b9a504d74f4"
      },
      "outputs": [],
      "source": [
        "query_6_5 = f'''select  \n",
        "    /* вычесляем среднее количество навыков для вакансий DC*/\n",
        "    sum(length(key_skills) - length(REPLACE(key_skills, CHR(9), ''))+1)::real / count(key_skills) \"количество навыков\"\n",
        "from vacancies\n",
        "/* выделяем вакансии DS*/\n",
        "where ((lower(name) like '%data scientist%') \n",
        "    or (lower(name) like '%data science%') \n",
        "    or (lower(name) like '%исследователь данных%') \n",
        "    or (lower(name) like '%machine learning%')\n",
        "    or ((name like '%ML%') and (lower(name)  not like '%html%'))\n",
        "    or (lower(name) like '%машинн%обучен%'))\n",
        "    \n",
        "'''  "
      ]
    },
    {
      "cell_type": "code",
      "execution_count": 46,
      "id": "a3V24Tvmviqk",
      "metadata": {
        "id": "a3V24Tvmviqk"
      },
      "outputs": [
        {
          "name": "stdout",
          "output_type": "stream",
          "text": [
            "   количество навыков\n",
            "0                6.41\n"
          ]
        }
      ],
      "source": [
        "df_6_5= pd.read_sql_query(query_6_5, connection)\n",
        "print(df_6_5.round(2))"
      ]
    },
    {
      "cell_type": "markdown",
      "id": "1041c17a-ca8f-4543-a0ca-32778914fb00",
      "metadata": {
        "id": "1041c17a-ca8f-4543-a0ca-32778914fb00"
      },
      "source": [
        "6. Напишите запрос, позволяющий вычислить, какую зарплату для DS в **среднем** указывают для каждого типа требуемого опыта (уникальное значение из поля *experience*). \n",
        "\n",
        "При решении задачи примите во внимание следующее:\n",
        "1. Рассматриваем только вакансии, у которых заполнено хотя бы одно из двух полей с зарплатой.\n",
        "2. Если заполнены оба поля с зарплатой, то считаем зарплату по каждой вакансии как сумму двух полей, делённую на 2. Если заполнено только одно из полей, то его и считаем зарплатой по вакансии.\n",
        "3. Если в расчётах участвует null, в результате он тоже даст null (посмотрите, что возвращает запрос select 1 + null). Чтобы избежать этой ситуацию, мы воспользуемся функцией [coalesce](https://postgrespro.ru/docs/postgresql/9.5/functions-conditional#functions-coalesce-nvl-ifnull), которая заменит null на значение, которое мы передадим. Например, посмотрите, что возвращает запрос `select 1 + coalesce(null, 0)`\n",
        "\n",
        "Выясните, на какую зарплату в среднем может рассчитывать дата-сайентист с опытом работы от 3 до 6 лет. Результат округлите до целого числа. "
      ]
    },
    {
      "cell_type": "code",
      "execution_count": 47,
      "id": "6a743d39-5204-48d3-8271-b9f88e68d40e",
      "metadata": {
        "id": "6a743d39-5204-48d3-8271-b9f88e68d40e"
      },
      "outputs": [],
      "source": [
        "query_6_6 = f'''with sum1 as (select /* создаем временную таблицу sum1 */\n",
        "    \n",
        "    experience , \n",
        "    (salary_from + salary_to)/2 ЗП  /* вычисляем среднюю ЗП если даны верхняя и нижняя граница ЗП*/\n",
        "   \n",
        "from vacancies\n",
        "/* выделяем вакансии DS*/\n",
        "where ((lower(name) like '%data scientist%') \n",
        "    or (lower(name) like '%data science%') \n",
        "    or (lower(name) like '%исследователь данных%') \n",
        "    or (lower(name) like '%machine learning%')\n",
        "    or ((name like '%ML%') and (lower(name)  not like '%html%'))\n",
        "    or (lower(name) like '%машинн%обучен%'))\n",
        "    \n",
        "    /* выбираем не нуливые данные ЗП верхней и нижней границы одновременно */\n",
        "    and((salary_from is not null) and (salary_to is not null))\n",
        " \n",
        "union all\n",
        "select  \n",
        "    experience,\n",
        "    coalesce(salary_from, 0) +coalesce(salary_to, 0) /* вычисляем с ЗП если даны верхняя или нижняя граница ЗП*/\n",
        "\n",
        "from vacancies\n",
        "/* выделяем вакансии DS*/\n",
        "where ((lower(name) like '%data scientist%') \n",
        "    or (lower(name) like '%data science%') \n",
        "    or (lower(name) like '%исследователь данных%') \n",
        "    or (lower(name) like '%machine learning%')\n",
        "    or ((name like '%ML%') and (lower(name)  not like '%html%'))\n",
        "    or (lower(name) like '%машинн%обучен%'))\n",
        "    \n",
        "    /* выбираем не нуливые данные ЗП отдельно верхней или нижней границы  */\n",
        "    and ((salary_from is not null) or (salary_to is not null))\n",
        "    and not ((salary_from is not null) and (salary_to is not null))\n",
        "\n",
        " ) \n",
        "select\n",
        "experience \"опыт работы\",\n",
        "avg(ЗП) ЗП  /*вычисляем среднюю ЗП в зависемости от опыта работы */\n",
        "from sum1 \n",
        "group by 1\n",
        "'''"
      ]
    },
    {
      "cell_type": "code",
      "execution_count": 48,
      "id": "aRIJ0mZEwU1_",
      "metadata": {
        "id": "aRIJ0mZEwU1_"
      },
      "outputs": [
        {
          "name": "stdout",
          "output_type": "stream",
          "text": [
            "          опыт работы        ЗП\n",
            "0       От 3 до 6 лет  243115.0\n",
            "1  От 1 года до 3 лет  139675.0\n",
            "2           Нет опыта   74643.0\n"
          ]
        }
      ],
      "source": [
        "df_6_6= pd.read_sql_query(query_6_6, connection)\n",
        "print(df_6_6.round())"
      ]
    },
    {
      "cell_type": "markdown",
      "id": "6a7892b4-4113-4746-adce-18aa2844f18e",
      "metadata": {
        "id": "6a7892b4-4113-4746-adce-18aa2844f18e"
      },
      "source": [
        "***"
      ]
    },
    {
      "cell_type": "markdown",
      "id": "UjLWUptVwY1o",
      "metadata": {
        "id": "UjLWUptVwY1o"
      },
      "source": [
        "## Анализ вакансий которые имеют отношение к данным\n",
        "1.\tВакансий, относящихся к данным, насчитывается 1771 шт. это 3.5% от общего количества вакансий, что довольно много, но это очень мало по сравнению с численностью работоспособного населения.\n",
        "2.\t Для начинающих дата-сайентистов насчитывается 51 вакансия из 536, а это 10%, что означает нехватку специалистов, хотя это 2 – 3 выпуска любой школы IT \n",
        "3.\tЗнания SQL и Python являются одним из ключевых навыков для работы с DS  201 и 351 вакансия требует их наличия.\n",
        "4.\tЗнание SQL и Python не являются единственными навыками, которые требует работодатель в среднем требуется более 6 навыков (6.4).\n",
        "5.\tЗП очень зависит от опыта работы так без опыта ЗП около 75 тыс. руб. от 1 года до 3 лет 140 тыс. руб.  от 3 до 6 лет 240 тыс. руб. ЗП довольно высокие даже для начинающих специалистов "
      ]
    },
    {
      "cell_type": "markdown",
      "id": "c0ED6fh7wiBT",
      "metadata": {
        "id": "c0ED6fh7wiBT"
      },
      "source": [
        "# Общий вывод по проекту"
      ]
    },
    {
      "cell_type": "markdown",
      "id": "h9B3BL-wwj18",
      "metadata": {
        "id": "h9B3BL-wwj18"
      },
      "source": [
        "## ВЫВОДЫ\n",
        "1.\tВакансий в IT сфере довольно много и IT специалисты требуются наверно во всех сферах деятельности людей \n",
        "2.\tВ основном IT специалисты требуются в крупных городах миллионщиках с малым опытом работы и ЗП около 100 тыс. руб. что говорит о нехватке специалистов в больших городах.\n",
        "3.\tОсновными работодателями являются большие компании, которые распространены по всей стране и работают в сфере финансов или информационных услуг. Так же много средних компаний, которым нужен один два специалиста. \n",
        "4.\tВакансий, которые имеют отношение к данным не так уж и много и требования, которые предъявляются к специалистам довольно высокие нужно иметь 6 и более навыков чтобы устроится на работу и средняя зарплата у них выше."
      ]
    }
  ],
  "metadata": {
    "colab": {
      "collapsed_sections": [
        "8d62a9f3-f64e-4fe7-bdac-c4dffa16155e"
      ],
      "provenance": []
    },
    "kernelspec": {
      "display_name": "Python 3 (ipykernel)",
      "language": "python",
      "name": "python3"
    },
    "language_info": {
      "codemirror_mode": {
        "name": "ipython",
        "version": 3
      },
      "file_extension": ".py",
      "mimetype": "text/x-python",
      "name": "python",
      "nbconvert_exporter": "python",
      "pygments_lexer": "ipython3",
      "version": "3.9.13"
    }
  },
  "nbformat": 4,
  "nbformat_minor": 5
}
