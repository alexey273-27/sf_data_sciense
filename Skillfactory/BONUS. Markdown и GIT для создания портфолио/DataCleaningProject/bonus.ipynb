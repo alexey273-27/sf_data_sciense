{
 "cells": [
  {
   "attachments": {},
   "cell_type": "markdown",
   "metadata": {},
   "source": [
    "<strong> Markdown </strong> — простой язык разметки."
   ]
  },
  {
   "attachments": {},
   "cell_type": "markdown",
   "metadata": {},
   "source": [
    "<strong>WYSIWYG (“What You See Is What You Get”)</strong> — свойство прикладных программ или веб-интерфейсов, в которых содержание отображается в процессе редактирования и выглядит максимально похожим на конечный результат."
   ]
  },
  {
   "attachments": {},
   "cell_type": "markdown",
   "metadata": {},
   "source": [
    "# *Заголовок курсивным методом*\n",
    " \n",
    " обычный текст\n",
    "\n",
    "**текст полужирным шрифтом**\n",
    "\n",
    "$ формула: a_{1 + a2} = b2 + 10 + 4 $  \n",
    "\n",
    "    цвет**"
   ]
  },
  {
   "attachments": {},
   "cell_type": "markdown",
   "metadata": {},
   "source": [
    "*наклоняем* не наклоняем  \n",
    "**полужирный**  \n",
    "***полужирный наклонный***  "
   ]
  },
  {
   "attachments": {},
   "cell_type": "markdown",
   "metadata": {},
   "source": [
    "## <center> ***СПИСКИ*** </center>\n",
    "+ Заголовок\n",
    "    + второй\n",
    "    + второй\n",
    "        - **третий**\n",
    "        - третий\n",
    "            * четвертый\n",
    "1. пппп\n",
    "2. оооо  \n",
    "    * 2.1 еее  \n",
    "    * 2 2  вввв  \n",
    "        * 2.2.1 аа   \n",
    "        ggggg   \n",
    "        ffgfg  \n",
    "    2. 3. ааааа  \n",
    "3.  ккк                 "
   ]
  },
  {
   "attachments": {},
   "cell_type": "markdown",
   "metadata": {},
   "source": [
    "без подсказки — [текст ссылки](http://example.com/link);\n",
    "c подсказкой — [текст ссылки](http://example.com/link \"Подсказка\")."
   ]
  },
  {
   "attachments": {},
   "cell_type": "markdown",
   "metadata": {},
   "source": [
    "![](https://i.imgur.com/3uj9teq.png)"
   ]
  },
  {
   "attachments": {},
   "cell_type": "markdown",
   "metadata": {},
   "source": [
    "<img src=https://i.imgur.com/3uj9teq.png width=500px height=30%>"
   ]
  },
  {
   "attachments": {},
   "cell_type": "markdown",
   "metadata": {},
   "source": [
    "## <center> фото\n",
    "<center> <img src=\"g:\\666\\7yqdLqtzwkE.jpg ?raw=true\" width=500 height=800></center>\n",
    "\n"
   ]
  },
  {
   "attachments": {},
   "cell_type": "markdown",
   "metadata": {},
   "source": [
    "Незнание очень часто **убивает**.  \n",
    " Красота — <вещь> субъективная."
   ]
  }
 ],
 "metadata": {
  "kernelspec": {
   "display_name": "Python 3",
   "language": "python",
   "name": "python3"
  },
  "language_info": {
   "codemirror_mode": {
    "name": "ipython",
    "version": 3
   },
   "file_extension": ".py",
   "mimetype": "text/x-python",
   "name": "python",
   "nbconvert_exporter": "python",
   "pygments_lexer": "ipython3",
   "version": "3.9.13"
  },
  "orig_nbformat": 4
 },
 "nbformat": 4,
 "nbformat_minor": 2
}
