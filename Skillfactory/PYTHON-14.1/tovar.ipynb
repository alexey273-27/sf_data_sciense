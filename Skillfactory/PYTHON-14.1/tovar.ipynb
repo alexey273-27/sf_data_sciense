{
 "cells": [
  {
   "attachments": {},
   "cell_type": "markdown",
   "metadata": {},
   "source": [
    "# Важно! \n",
    "Это задание на самопроверку, оно необязательное, и мы не будем оценивать качество его решения. Настоятельно рекомендуем вам попробовать найти ответ самостоятельно.\n",
    "\n",
    "Имеются две базы данных (два листа Excel-файла): база с ценами конкурентов (Data_Parsing) и внутренняя база компании (Data_Company).\n",
    "\n",
    "В базе парсинга есть два id, однозначно определяющие товар: producer_id и producer_color.\n",
    "\n",
    "В базе компании есть два аналогичных поля: item_id и color_id.\n",
    "\n",
    "Нам известно, что коды в двух базах отличаются наличием набора служебных символов. В базе парсинга встречаются следующие символы: _, -, ~, \\\\, /.\n",
    "\n",
    "Необходимо:\n",
    "\n",
    "1 Считать данные из Excel в DataFrame (Data_Parsing) и (Data_Company).\n",
    "2 Подтянуть к базе парсинга данные из базы компании (item_id, color_id, current_price) и сформировать столбец разницы цен в % (цена конкурента к нашей цене).  \n",
    "3 Определить сильные отклонения от среднего в разности цен в пределах бренда-категории (то есть убрать случайные выбросы, сильно искажающие сравнение). Критерий — по вкусу, написать комментарий в коде.  \n",
    "4 Записать новый файл Excel с базой парсинга, приклееными к ней столбцами из пункта 2 и с учётом пункта 3 (можно добавить столбец outlier и проставить Yes для выбросов)."
   ]
  },
  {
   "cell_type": "code",
   "execution_count": 2,
   "metadata": {},
   "outputs": [],
   "source": [
    "import pandas as pd\n",
    "import numpy as np\n",
    "import matplotlib.pyplot as plt\n",
    "import seaborn as sns\n",
    "import plotly\n",
    "import plotly.express as px "
   ]
  },
  {
   "cell_type": "code",
   "execution_count": 3,
   "metadata": {},
   "outputs": [
    {
     "data": {
      "text/plain": [
       "{'Data_Parsing':            brand Category   producer_id producer_color  price\n",
       " 0      Valentino    Shoes  aaaaa1111_11          black    167\n",
       " 1      Valentino    Shoes  aaaaa1111_12          black    188\n",
       " 2      Valentino    Shoes  aaaaa1111_13          black    184\n",
       " 3      Valentino    Shoes  aaaaa1111_14        bla//ck    196\n",
       " 4      Valentino    Shoes  aaaaa1111_15        bla\\\\ck    250\n",
       " ..           ...      ...           ...            ...    ...\n",
       " 70  Stone Island     Bags  sssss1111_31         ~~~red    164\n",
       " 71  Stone Island     Bags  sssss1111_32         ~~~red    158\n",
       " 72  Stone Island     Bags  sssss1111_33         ~~~red    194\n",
       " 73  Stone Island     Bags  sssss1111_34         ~~~red    256\n",
       " 74  Stone Island     Bags  sssss1111_35         ~~~red    205\n",
       " \n",
       " [75 rows x 5 columns],\n",
       " 'Data_Company':            brand Category      item_id color_id  current price\n",
       " 0      Valentino    Shoes  aaaaa111111    black            247\n",
       " 1      Valentino    Shoes  aaaaa111112    black            161\n",
       " 2      Valentino    Shoes  aaaaa111113    black            234\n",
       " 3      Valentino    Shoes  aaaaa111114    black            167\n",
       " 4      Valentino    Shoes  aaaaa111115    black            153\n",
       " ..           ...      ...          ...      ...            ...\n",
       " 70  Stone Island     Bags  sssss111131      red            165\n",
       " 71  Stone Island     Bags  sssss111132      red            196\n",
       " 72  Stone Island     Bags  sssss111133      red            236\n",
       " 73  Stone Island     Bags  sssss111134      red            222\n",
       " 74  Stone Island     Bags  sssss111135      red            275\n",
       " \n",
       " [75 rows x 5 columns]}"
      ]
     },
     "execution_count": 3,
     "metadata": {},
     "output_type": "execute_result"
    }
   ],
   "source": [
    "tsum = pd.read_excel('data/Data_TSUM.xlsx', sheet_name= ['Data_Parsing', 'Data_Company'])\n",
    "tsum"
   ]
  },
  {
   "cell_type": "code",
   "execution_count": 4,
   "metadata": {},
   "outputs": [
    {
     "name": "stdout",
     "output_type": "stream",
     "text": [
      "           brand Category      item_id color_id  current price\n",
      "0      Valentino    Shoes  aaaaa111111    black            247\n",
      "1      Valentino    Shoes  aaaaa111112    black            161\n",
      "2      Valentino    Shoes  aaaaa111113    black            234\n",
      "3      Valentino    Shoes  aaaaa111114    black            167\n",
      "4      Valentino    Shoes  aaaaa111115    black            153\n",
      "..           ...      ...          ...      ...            ...\n",
      "70  Stone Island     Bags  sssss111131      red            165\n",
      "71  Stone Island     Bags  sssss111132      red            196\n",
      "72  Stone Island     Bags  sssss111133      red            236\n",
      "73  Stone Island     Bags  sssss111134      red            222\n",
      "74  Stone Island     Bags  sssss111135      red            275\n",
      "\n",
      "[75 rows x 5 columns]\n"
     ]
    }
   ],
   "source": [
    "Data_Company = tsum['Data_Company']\n",
    "print(Data_Company)"
   ]
  },
  {
   "cell_type": "code",
   "execution_count": 5,
   "metadata": {},
   "outputs": [
    {
     "name": "stdout",
     "output_type": "stream",
     "text": [
      "           brand Category   producer_id producer_color  price\n",
      "0      Valentino    Shoes  aaaaa1111_11          black    167\n",
      "1      Valentino    Shoes  aaaaa1111_12          black    188\n",
      "2      Valentino    Shoes  aaaaa1111_13          black    184\n",
      "3      Valentino    Shoes  aaaaa1111_14        bla//ck    196\n",
      "4      Valentino    Shoes  aaaaa1111_15        bla\\\\ck    250\n",
      "..           ...      ...           ...            ...    ...\n",
      "70  Stone Island     Bags  sssss1111_31         ~~~red    164\n",
      "71  Stone Island     Bags  sssss1111_32         ~~~red    158\n",
      "72  Stone Island     Bags  sssss1111_33         ~~~red    194\n",
      "73  Stone Island     Bags  sssss1111_34         ~~~red    256\n",
      "74  Stone Island     Bags  sssss1111_35         ~~~red    205\n",
      "\n",
      "[75 rows x 5 columns]\n"
     ]
    }
   ],
   "source": [
    "Data_Parsing = tsum['Data_Parsing']\n",
    "print(Data_Parsing)"
   ]
  },
  {
   "cell_type": "code",
   "execution_count": 6,
   "metadata": {},
   "outputs": [],
   "source": [
    "Data_Parsing['producer_id'] = Data_Parsing['producer_id'].apply(lambda x: x.replace('_',''))\n",
    "\n",
    "Data_Parsing['producer_color'] = Data_Parsing['producer_color'].apply(lambda  x: x.replace('/', '') ) \n",
    "Data_Parsing['producer_color'] = Data_Parsing['producer_color'].apply(lambda  x: x.replace('\\\\', '')) \n",
    "Data_Parsing['producer_color'] = Data_Parsing['producer_color'].apply(lambda  x: x.replace('~', '') ) \n",
    "Data_Parsing['producer_color'] = Data_Parsing['producer_color'].apply(lambda  x: x.replace('_', '') )\n",
    "Data_Parsing['producer_color'] = Data_Parsing['producer_color'].apply(lambda  x: x.replace('-', '') ) "
   ]
  },
  {
   "cell_type": "code",
   "execution_count": 7,
   "metadata": {},
   "outputs": [
    {
     "data": {
      "text/plain": [
       "brand      Category  producer_id  producer_color  price\n",
       "Brioni     Bags      bbbbb111125  red             180      0.013333\n",
       "Valentino  Bags      aaaaa111131  red             256      0.013333\n",
       "                     aaaaa111129  red             192      0.013333\n",
       "                     aaaaa111128  red             284      0.013333\n",
       "                     aaaaa111127  red             293      0.013333\n",
       "                                                             ...   \n",
       "Brioni     Shoes     bbbbb111124  white           298      0.013333\n",
       "                     bbbbb111123  white           277      0.013333\n",
       "                     bbbbb111122  white           260      0.013333\n",
       "                     bbbbb111121  white           238      0.013333\n",
       "Valentino  Shoes     aaaaa111124  white           259      0.013333\n",
       "Length: 75, dtype: float64"
      ]
     },
     "execution_count": 7,
     "metadata": {},
     "output_type": "execute_result"
    }
   ],
   "source": [
    "Data_Parsing.value_counts(normalize=True)"
   ]
  },
  {
   "cell_type": "code",
   "execution_count": 8,
   "metadata": {},
   "outputs": [
    {
     "data": {
      "text/plain": [
       "brand      Category  item_id      color_id  current price\n",
       "Brioni     Bags      bbbbb111125  red       153              0.013333\n",
       "Valentino  Bags      aaaaa111131  red       189              0.013333\n",
       "                     aaaaa111129  red       206              0.013333\n",
       "                     aaaaa111128  red       252              0.013333\n",
       "                     aaaaa111127  red       203              0.013333\n",
       "                                                               ...   \n",
       "Brioni     Shoes     bbbbb111124  white     183              0.013333\n",
       "                     bbbbb111123  white     288              0.013333\n",
       "                     bbbbb111122  white     270              0.013333\n",
       "                     bbbbb111121  white     216              0.013333\n",
       "Valentino  Shoes     aaaaa111124  white     237              0.013333\n",
       "Length: 75, dtype: float64"
      ]
     },
     "execution_count": 8,
     "metadata": {},
     "output_type": "execute_result"
    }
   ],
   "source": [
    "Data_Company.value_counts(normalize=True)"
   ]
  },
  {
   "cell_type": "code",
   "execution_count": 9,
   "metadata": {},
   "outputs": [
    {
     "data": {
      "text/html": [
       "<div>\n",
       "<style scoped>\n",
       "    .dataframe tbody tr th:only-of-type {\n",
       "        vertical-align: middle;\n",
       "    }\n",
       "\n",
       "    .dataframe tbody tr th {\n",
       "        vertical-align: top;\n",
       "    }\n",
       "\n",
       "    .dataframe thead th {\n",
       "        text-align: right;\n",
       "    }\n",
       "</style>\n",
       "<table border=\"1\" class=\"dataframe\">\n",
       "  <thead>\n",
       "    <tr style=\"text-align: right;\">\n",
       "      <th></th>\n",
       "      <th>brand_x</th>\n",
       "      <th>Category_x</th>\n",
       "      <th>item_id</th>\n",
       "      <th>color_id</th>\n",
       "      <th>current price</th>\n",
       "      <th>brand_y</th>\n",
       "      <th>Category_y</th>\n",
       "      <th>producer_id</th>\n",
       "      <th>producer_color</th>\n",
       "      <th>price</th>\n",
       "    </tr>\n",
       "  </thead>\n",
       "  <tbody>\n",
       "    <tr>\n",
       "      <th>0</th>\n",
       "      <td>Valentino</td>\n",
       "      <td>Shoes</td>\n",
       "      <td>aaaaa111111</td>\n",
       "      <td>black</td>\n",
       "      <td>247</td>\n",
       "      <td>Valentino</td>\n",
       "      <td>Shoes</td>\n",
       "      <td>aaaaa111111</td>\n",
       "      <td>black</td>\n",
       "      <td>167</td>\n",
       "    </tr>\n",
       "    <tr>\n",
       "      <th>1</th>\n",
       "      <td>Valentino</td>\n",
       "      <td>Shoes</td>\n",
       "      <td>aaaaa111112</td>\n",
       "      <td>black</td>\n",
       "      <td>161</td>\n",
       "      <td>Valentino</td>\n",
       "      <td>Shoes</td>\n",
       "      <td>aaaaa111112</td>\n",
       "      <td>black</td>\n",
       "      <td>188</td>\n",
       "    </tr>\n",
       "    <tr>\n",
       "      <th>2</th>\n",
       "      <td>Valentino</td>\n",
       "      <td>Shoes</td>\n",
       "      <td>aaaaa111113</td>\n",
       "      <td>black</td>\n",
       "      <td>234</td>\n",
       "      <td>Valentino</td>\n",
       "      <td>Shoes</td>\n",
       "      <td>aaaaa111113</td>\n",
       "      <td>black</td>\n",
       "      <td>184</td>\n",
       "    </tr>\n",
       "    <tr>\n",
       "      <th>3</th>\n",
       "      <td>Valentino</td>\n",
       "      <td>Shoes</td>\n",
       "      <td>aaaaa111114</td>\n",
       "      <td>black</td>\n",
       "      <td>167</td>\n",
       "      <td>Valentino</td>\n",
       "      <td>Shoes</td>\n",
       "      <td>aaaaa111114</td>\n",
       "      <td>black</td>\n",
       "      <td>196</td>\n",
       "    </tr>\n",
       "    <tr>\n",
       "      <th>4</th>\n",
       "      <td>Valentino</td>\n",
       "      <td>Shoes</td>\n",
       "      <td>aaaaa111115</td>\n",
       "      <td>black</td>\n",
       "      <td>153</td>\n",
       "      <td>Valentino</td>\n",
       "      <td>Shoes</td>\n",
       "      <td>aaaaa111115</td>\n",
       "      <td>black</td>\n",
       "      <td>250</td>\n",
       "    </tr>\n",
       "    <tr>\n",
       "      <th>...</th>\n",
       "      <td>...</td>\n",
       "      <td>...</td>\n",
       "      <td>...</td>\n",
       "      <td>...</td>\n",
       "      <td>...</td>\n",
       "      <td>...</td>\n",
       "      <td>...</td>\n",
       "      <td>...</td>\n",
       "      <td>...</td>\n",
       "      <td>...</td>\n",
       "    </tr>\n",
       "    <tr>\n",
       "      <th>70</th>\n",
       "      <td>Stone Island</td>\n",
       "      <td>Bags</td>\n",
       "      <td>sssss111131</td>\n",
       "      <td>red</td>\n",
       "      <td>165</td>\n",
       "      <td>Stone Island</td>\n",
       "      <td>Bags</td>\n",
       "      <td>sssss111131</td>\n",
       "      <td>red</td>\n",
       "      <td>164</td>\n",
       "    </tr>\n",
       "    <tr>\n",
       "      <th>71</th>\n",
       "      <td>Stone Island</td>\n",
       "      <td>Bags</td>\n",
       "      <td>sssss111132</td>\n",
       "      <td>red</td>\n",
       "      <td>196</td>\n",
       "      <td>Stone Island</td>\n",
       "      <td>Bags</td>\n",
       "      <td>sssss111132</td>\n",
       "      <td>red</td>\n",
       "      <td>158</td>\n",
       "    </tr>\n",
       "    <tr>\n",
       "      <th>72</th>\n",
       "      <td>Stone Island</td>\n",
       "      <td>Bags</td>\n",
       "      <td>sssss111133</td>\n",
       "      <td>red</td>\n",
       "      <td>236</td>\n",
       "      <td>Stone Island</td>\n",
       "      <td>Bags</td>\n",
       "      <td>sssss111133</td>\n",
       "      <td>red</td>\n",
       "      <td>194</td>\n",
       "    </tr>\n",
       "    <tr>\n",
       "      <th>73</th>\n",
       "      <td>Stone Island</td>\n",
       "      <td>Bags</td>\n",
       "      <td>sssss111134</td>\n",
       "      <td>red</td>\n",
       "      <td>222</td>\n",
       "      <td>Stone Island</td>\n",
       "      <td>Bags</td>\n",
       "      <td>sssss111134</td>\n",
       "      <td>red</td>\n",
       "      <td>256</td>\n",
       "    </tr>\n",
       "    <tr>\n",
       "      <th>74</th>\n",
       "      <td>Stone Island</td>\n",
       "      <td>Bags</td>\n",
       "      <td>sssss111135</td>\n",
       "      <td>red</td>\n",
       "      <td>275</td>\n",
       "      <td>Stone Island</td>\n",
       "      <td>Bags</td>\n",
       "      <td>sssss111135</td>\n",
       "      <td>red</td>\n",
       "      <td>205</td>\n",
       "    </tr>\n",
       "  </tbody>\n",
       "</table>\n",
       "<p>75 rows × 10 columns</p>\n",
       "</div>"
      ],
      "text/plain": [
       "         brand_x Category_x      item_id color_id  current price  \\\n",
       "0      Valentino      Shoes  aaaaa111111    black            247   \n",
       "1      Valentino      Shoes  aaaaa111112    black            161   \n",
       "2      Valentino      Shoes  aaaaa111113    black            234   \n",
       "3      Valentino      Shoes  aaaaa111114    black            167   \n",
       "4      Valentino      Shoes  aaaaa111115    black            153   \n",
       "..           ...        ...          ...      ...            ...   \n",
       "70  Stone Island       Bags  sssss111131      red            165   \n",
       "71  Stone Island       Bags  sssss111132      red            196   \n",
       "72  Stone Island       Bags  sssss111133      red            236   \n",
       "73  Stone Island       Bags  sssss111134      red            222   \n",
       "74  Stone Island       Bags  sssss111135      red            275   \n",
       "\n",
       "         brand_y Category_y  producer_id producer_color  price  \n",
       "0      Valentino      Shoes  aaaaa111111          black    167  \n",
       "1      Valentino      Shoes  aaaaa111112          black    188  \n",
       "2      Valentino      Shoes  aaaaa111113          black    184  \n",
       "3      Valentino      Shoes  aaaaa111114          black    196  \n",
       "4      Valentino      Shoes  aaaaa111115          black    250  \n",
       "..           ...        ...          ...            ...    ...  \n",
       "70  Stone Island       Bags  sssss111131            red    164  \n",
       "71  Stone Island       Bags  sssss111132            red    158  \n",
       "72  Stone Island       Bags  sssss111133            red    194  \n",
       "73  Stone Island       Bags  sssss111134            red    256  \n",
       "74  Stone Island       Bags  sssss111135            red    205  \n",
       "\n",
       "[75 rows x 10 columns]"
      ]
     },
     "metadata": {},
     "output_type": "display_data"
    }
   ],
   "source": [
    "company = Data_Company.merge(\n",
    "    Data_Parsing,\n",
    "    #on='brand',\n",
    "    left_on= 'item_id',\n",
    "    right_on= 'producer_id', \n",
    "    how='left',\n",
    "    left_index=False\n",
    ")\n",
    "display(company)"
   ]
  },
  {
   "cell_type": "code",
   "execution_count": 10,
   "metadata": {},
   "outputs": [
    {
     "data": {
      "text/html": [
       "<div>\n",
       "<style scoped>\n",
       "    .dataframe tbody tr th:only-of-type {\n",
       "        vertical-align: middle;\n",
       "    }\n",
       "\n",
       "    .dataframe tbody tr th {\n",
       "        vertical-align: top;\n",
       "    }\n",
       "\n",
       "    .dataframe thead th {\n",
       "        text-align: right;\n",
       "    }\n",
       "</style>\n",
       "<table border=\"1\" class=\"dataframe\">\n",
       "  <thead>\n",
       "    <tr style=\"text-align: right;\">\n",
       "      <th></th>\n",
       "      <th>brand_x</th>\n",
       "      <th>Category_x</th>\n",
       "      <th>item_id</th>\n",
       "      <th>color_id</th>\n",
       "      <th>current price</th>\n",
       "      <th>brand_y</th>\n",
       "      <th>Category_y</th>\n",
       "      <th>producer_id</th>\n",
       "      <th>producer_color</th>\n",
       "      <th>price</th>\n",
       "      <th>price_itog</th>\n",
       "    </tr>\n",
       "  </thead>\n",
       "  <tbody>\n",
       "    <tr>\n",
       "      <th>0</th>\n",
       "      <td>Valentino</td>\n",
       "      <td>Shoes</td>\n",
       "      <td>aaaaa111111</td>\n",
       "      <td>black</td>\n",
       "      <td>247</td>\n",
       "      <td>Valentino</td>\n",
       "      <td>Shoes</td>\n",
       "      <td>aaaaa111111</td>\n",
       "      <td>black</td>\n",
       "      <td>167</td>\n",
       "      <td>-32.39</td>\n",
       "    </tr>\n",
       "    <tr>\n",
       "      <th>1</th>\n",
       "      <td>Valentino</td>\n",
       "      <td>Shoes</td>\n",
       "      <td>aaaaa111112</td>\n",
       "      <td>black</td>\n",
       "      <td>161</td>\n",
       "      <td>Valentino</td>\n",
       "      <td>Shoes</td>\n",
       "      <td>aaaaa111112</td>\n",
       "      <td>black</td>\n",
       "      <td>188</td>\n",
       "      <td>16.77</td>\n",
       "    </tr>\n",
       "    <tr>\n",
       "      <th>2</th>\n",
       "      <td>Valentino</td>\n",
       "      <td>Shoes</td>\n",
       "      <td>aaaaa111113</td>\n",
       "      <td>black</td>\n",
       "      <td>234</td>\n",
       "      <td>Valentino</td>\n",
       "      <td>Shoes</td>\n",
       "      <td>aaaaa111113</td>\n",
       "      <td>black</td>\n",
       "      <td>184</td>\n",
       "      <td>-21.37</td>\n",
       "    </tr>\n",
       "    <tr>\n",
       "      <th>3</th>\n",
       "      <td>Valentino</td>\n",
       "      <td>Shoes</td>\n",
       "      <td>aaaaa111114</td>\n",
       "      <td>black</td>\n",
       "      <td>167</td>\n",
       "      <td>Valentino</td>\n",
       "      <td>Shoes</td>\n",
       "      <td>aaaaa111114</td>\n",
       "      <td>black</td>\n",
       "      <td>196</td>\n",
       "      <td>17.37</td>\n",
       "    </tr>\n",
       "    <tr>\n",
       "      <th>4</th>\n",
       "      <td>Valentino</td>\n",
       "      <td>Shoes</td>\n",
       "      <td>aaaaa111115</td>\n",
       "      <td>black</td>\n",
       "      <td>153</td>\n",
       "      <td>Valentino</td>\n",
       "      <td>Shoes</td>\n",
       "      <td>aaaaa111115</td>\n",
       "      <td>black</td>\n",
       "      <td>250</td>\n",
       "      <td>63.40</td>\n",
       "    </tr>\n",
       "    <tr>\n",
       "      <th>...</th>\n",
       "      <td>...</td>\n",
       "      <td>...</td>\n",
       "      <td>...</td>\n",
       "      <td>...</td>\n",
       "      <td>...</td>\n",
       "      <td>...</td>\n",
       "      <td>...</td>\n",
       "      <td>...</td>\n",
       "      <td>...</td>\n",
       "      <td>...</td>\n",
       "      <td>...</td>\n",
       "    </tr>\n",
       "    <tr>\n",
       "      <th>70</th>\n",
       "      <td>Stone Island</td>\n",
       "      <td>Bags</td>\n",
       "      <td>sssss111131</td>\n",
       "      <td>red</td>\n",
       "      <td>165</td>\n",
       "      <td>Stone Island</td>\n",
       "      <td>Bags</td>\n",
       "      <td>sssss111131</td>\n",
       "      <td>red</td>\n",
       "      <td>164</td>\n",
       "      <td>-0.61</td>\n",
       "    </tr>\n",
       "    <tr>\n",
       "      <th>71</th>\n",
       "      <td>Stone Island</td>\n",
       "      <td>Bags</td>\n",
       "      <td>sssss111132</td>\n",
       "      <td>red</td>\n",
       "      <td>196</td>\n",
       "      <td>Stone Island</td>\n",
       "      <td>Bags</td>\n",
       "      <td>sssss111132</td>\n",
       "      <td>red</td>\n",
       "      <td>158</td>\n",
       "      <td>-19.39</td>\n",
       "    </tr>\n",
       "    <tr>\n",
       "      <th>72</th>\n",
       "      <td>Stone Island</td>\n",
       "      <td>Bags</td>\n",
       "      <td>sssss111133</td>\n",
       "      <td>red</td>\n",
       "      <td>236</td>\n",
       "      <td>Stone Island</td>\n",
       "      <td>Bags</td>\n",
       "      <td>sssss111133</td>\n",
       "      <td>red</td>\n",
       "      <td>194</td>\n",
       "      <td>-17.80</td>\n",
       "    </tr>\n",
       "    <tr>\n",
       "      <th>73</th>\n",
       "      <td>Stone Island</td>\n",
       "      <td>Bags</td>\n",
       "      <td>sssss111134</td>\n",
       "      <td>red</td>\n",
       "      <td>222</td>\n",
       "      <td>Stone Island</td>\n",
       "      <td>Bags</td>\n",
       "      <td>sssss111134</td>\n",
       "      <td>red</td>\n",
       "      <td>256</td>\n",
       "      <td>15.32</td>\n",
       "    </tr>\n",
       "    <tr>\n",
       "      <th>74</th>\n",
       "      <td>Stone Island</td>\n",
       "      <td>Bags</td>\n",
       "      <td>sssss111135</td>\n",
       "      <td>red</td>\n",
       "      <td>275</td>\n",
       "      <td>Stone Island</td>\n",
       "      <td>Bags</td>\n",
       "      <td>sssss111135</td>\n",
       "      <td>red</td>\n",
       "      <td>205</td>\n",
       "      <td>-25.45</td>\n",
       "    </tr>\n",
       "  </tbody>\n",
       "</table>\n",
       "<p>75 rows × 11 columns</p>\n",
       "</div>"
      ],
      "text/plain": [
       "         brand_x Category_x      item_id color_id  current price  \\\n",
       "0      Valentino      Shoes  aaaaa111111    black            247   \n",
       "1      Valentino      Shoes  aaaaa111112    black            161   \n",
       "2      Valentino      Shoes  aaaaa111113    black            234   \n",
       "3      Valentino      Shoes  aaaaa111114    black            167   \n",
       "4      Valentino      Shoes  aaaaa111115    black            153   \n",
       "..           ...        ...          ...      ...            ...   \n",
       "70  Stone Island       Bags  sssss111131      red            165   \n",
       "71  Stone Island       Bags  sssss111132      red            196   \n",
       "72  Stone Island       Bags  sssss111133      red            236   \n",
       "73  Stone Island       Bags  sssss111134      red            222   \n",
       "74  Stone Island       Bags  sssss111135      red            275   \n",
       "\n",
       "         brand_y Category_y  producer_id producer_color  price  price_itog  \n",
       "0      Valentino      Shoes  aaaaa111111          black    167      -32.39  \n",
       "1      Valentino      Shoes  aaaaa111112          black    188       16.77  \n",
       "2      Valentino      Shoes  aaaaa111113          black    184      -21.37  \n",
       "3      Valentino      Shoes  aaaaa111114          black    196       17.37  \n",
       "4      Valentino      Shoes  aaaaa111115          black    250       63.40  \n",
       "..           ...        ...          ...            ...    ...         ...  \n",
       "70  Stone Island       Bags  sssss111131            red    164       -0.61  \n",
       "71  Stone Island       Bags  sssss111132            red    158      -19.39  \n",
       "72  Stone Island       Bags  sssss111133            red    194      -17.80  \n",
       "73  Stone Island       Bags  sssss111134            red    256       15.32  \n",
       "74  Stone Island       Bags  sssss111135            red    205      -25.45  \n",
       "\n",
       "[75 rows x 11 columns]"
      ]
     },
     "metadata": {},
     "output_type": "display_data"
    }
   ],
   "source": [
    "company['price_itog'] = ((company['price'] - company['current price'] )/ company['current price'] * 100).round(2)\n",
    "display(company)"
   ]
  },
  {
   "cell_type": "code",
   "execution_count": 11,
   "metadata": {},
   "outputs": [
    {
     "name": "stdout",
     "output_type": "stream",
     "text": [
      "5.14.1\n"
     ]
    }
   ],
   "source": [
    "import plotly\n",
    "import plotly.express as px\n",
    "print(plotly.__version__)"
   ]
  },
  {
   "cell_type": "code",
   "execution_count": 12,
   "metadata": {},
   "outputs": [],
   "source": [
    "def outliers_iqr_mod(data, feature, left=1.5, right=1.5):\n",
    "    x = data[feature]\n",
    "    quartile_1, quartile_3 = x.quantile(0.25), x.quantile(0.75),\n",
    "    iqr = quartile_3 - quartile_1\n",
    "    lower_bound = quartile_1 - (iqr * left)\n",
    "    upper_bound = quartile_3 + (iqr * right)\n",
    "    outliers = data[(x < lower_bound) | (x > upper_bound)]\n",
    "    cleaned = data[(x >= lower_bound) & (x <= upper_bound)]\n",
    "    return outliers, cleaned"
   ]
  },
  {
   "cell_type": "code",
   "execution_count": 13,
   "metadata": {},
   "outputs": [
    {
     "name": "stdout",
     "output_type": "stream",
     "text": [
      "Число выбросов по методу Тьюки: 0\n",
      "Результирующее число записей: 75\n"
     ]
    }
   ],
   "source": [
    "outliers, cleaned = outliers_iqr_mod(company, 'price_itog')\n",
    "print(f'Число выбросов по методу Тьюки: {outliers.shape[0]}')\n",
    "print(f'Результирующее число записей: {cleaned.shape[0]}')"
   ]
  },
  {
   "cell_type": "code",
   "execution_count": 14,
   "metadata": {},
   "outputs": [
    {
     "data": {
      "application/vnd.plotly.v1+json": {
       "config": {
        "plotlyServerURL": "https://plot.ly"
       },
       "data": [
        {
         "alignmentgroup": "True",
         "hovertemplate": "brand_x=Valentino<br>price_itog=%{x}<br>Category_x=%{y}<extra></extra>",
         "legendgroup": "Valentino",
         "marker": {
          "color": "#636efa"
         },
         "name": "Valentino",
         "notched": false,
         "offsetgroup": "Valentino",
         "orientation": "h",
         "showlegend": true,
         "type": "box",
         "x": [
          -32.39,
          16.77,
          -21.37,
          17.37,
          63.4,
          -27.92,
          28.99,
          -38.87,
          -5.6,
          -30.2,
          -41.44,
          -5.2,
          68.42,
          9.28,
          -7.89,
          -2.89,
          44.33,
          12.7,
          -6.8,
          -39.72,
          35.45,
          -41.98,
          -11.58,
          4.04,
          47.06
         ],
         "x0": " ",
         "xaxis": "x",
         "y": [
          "Shoes",
          "Shoes",
          "Shoes",
          "Shoes",
          "Shoes",
          "Shoes",
          "Shoes",
          "Shoes",
          "Shoes",
          "Shoes",
          "Shoes",
          "Shoes",
          "Shoes",
          "Shoes",
          "Bags",
          "Bags",
          "Bags",
          "Bags",
          "Bags",
          "Bags",
          "Bags",
          "Bags",
          "Bags",
          "Bags",
          "Bags"
         ],
         "y0": " ",
         "yaxis": "y"
        },
        {
         "alignmentgroup": "True",
         "hovertemplate": "brand_x=Brioni<br>price_itog=%{x}<br>Category_x=%{y}<extra></extra>",
         "legendgroup": "Brioni",
         "marker": {
          "color": "#EF553B"
         },
         "name": "Brioni",
         "notched": false,
         "offsetgroup": "Brioni",
         "orientation": "h",
         "showlegend": true,
         "type": "box",
         "x": [
          6.48,
          14.89,
          14.47,
          18.37,
          8.54,
          -32.86,
          46.97,
          -29.79,
          -4.35,
          -33.98,
          10.19,
          -3.7,
          -3.82,
          62.84,
          17.65,
          -18.34,
          -16.39,
          33.33,
          8.12,
          -14.21,
          63.69,
          -8.81,
          29.17,
          -13.39,
          -36.25
         ],
         "x0": " ",
         "xaxis": "x",
         "y": [
          "Shoes",
          "Shoes",
          "Shoes",
          "Shoes",
          "Shoes",
          "Shoes",
          "Shoes",
          "Shoes",
          "Shoes",
          "Shoes",
          "Shoes",
          "Shoes",
          "Shoes",
          "Shoes",
          "Bags",
          "Bags",
          "Bags",
          "Bags",
          "Bags",
          "Bags",
          "Bags",
          "Bags",
          "Bags",
          "Bags",
          "Bags"
         ],
         "y0": " ",
         "yaxis": "y"
        },
        {
         "alignmentgroup": "True",
         "hovertemplate": "brand_x=Stone Island<br>price_itog=%{x}<br>Category_x=%{y}<extra></extra>",
         "legendgroup": "Stone Island",
         "marker": {
          "color": "#00cc96"
         },
         "name": "Stone Island",
         "notched": false,
         "offsetgroup": "Stone Island",
         "orientation": "h",
         "showlegend": true,
         "type": "box",
         "x": [
          21.25,
          -27.05,
          -23.55,
          -4.37,
          4.64,
          55.68,
          17.2,
          18.18,
          -28.97,
          33.74,
          38.89,
          -4.59,
          -31.03,
          -13.33,
          -11.02,
          60.38,
          -31.64,
          -7.07,
          8.97,
          18.34,
          -0.61,
          -19.39,
          -17.8,
          15.32,
          -25.45
         ],
         "x0": " ",
         "xaxis": "x",
         "y": [
          "Shoes",
          "Shoes",
          "Shoes",
          "Shoes",
          "Shoes",
          "Shoes",
          "Shoes",
          "Shoes",
          "Shoes",
          "Shoes",
          "Shoes",
          "Shoes",
          "Shoes",
          "Shoes",
          "Bags",
          "Bags",
          "Bags",
          "Bags",
          "Bags",
          "Bags",
          "Bags",
          "Bags",
          "Bags",
          "Bags",
          "Bags"
         ],
         "y0": " ",
         "yaxis": "y"
        }
       ],
       "layout": {
        "boxmode": "group",
        "legend": {
         "title": {
          "text": "brand_x"
         },
         "tracegroupgap": 0
        },
        "template": {
         "data": {
          "bar": [
           {
            "error_x": {
             "color": "#2a3f5f"
            },
            "error_y": {
             "color": "#2a3f5f"
            },
            "marker": {
             "line": {
              "color": "#E5ECF6",
              "width": 0.5
             },
             "pattern": {
              "fillmode": "overlay",
              "size": 10,
              "solidity": 0.2
             }
            },
            "type": "bar"
           }
          ],
          "barpolar": [
           {
            "marker": {
             "line": {
              "color": "#E5ECF6",
              "width": 0.5
             },
             "pattern": {
              "fillmode": "overlay",
              "size": 10,
              "solidity": 0.2
             }
            },
            "type": "barpolar"
           }
          ],
          "carpet": [
           {
            "aaxis": {
             "endlinecolor": "#2a3f5f",
             "gridcolor": "white",
             "linecolor": "white",
             "minorgridcolor": "white",
             "startlinecolor": "#2a3f5f"
            },
            "baxis": {
             "endlinecolor": "#2a3f5f",
             "gridcolor": "white",
             "linecolor": "white",
             "minorgridcolor": "white",
             "startlinecolor": "#2a3f5f"
            },
            "type": "carpet"
           }
          ],
          "choropleth": [
           {
            "colorbar": {
             "outlinewidth": 0,
             "ticks": ""
            },
            "type": "choropleth"
           }
          ],
          "contour": [
           {
            "colorbar": {
             "outlinewidth": 0,
             "ticks": ""
            },
            "colorscale": [
             [
              0,
              "#0d0887"
             ],
             [
              0.1111111111111111,
              "#46039f"
             ],
             [
              0.2222222222222222,
              "#7201a8"
             ],
             [
              0.3333333333333333,
              "#9c179e"
             ],
             [
              0.4444444444444444,
              "#bd3786"
             ],
             [
              0.5555555555555556,
              "#d8576b"
             ],
             [
              0.6666666666666666,
              "#ed7953"
             ],
             [
              0.7777777777777778,
              "#fb9f3a"
             ],
             [
              0.8888888888888888,
              "#fdca26"
             ],
             [
              1,
              "#f0f921"
             ]
            ],
            "type": "contour"
           }
          ],
          "contourcarpet": [
           {
            "colorbar": {
             "outlinewidth": 0,
             "ticks": ""
            },
            "type": "contourcarpet"
           }
          ],
          "heatmap": [
           {
            "colorbar": {
             "outlinewidth": 0,
             "ticks": ""
            },
            "colorscale": [
             [
              0,
              "#0d0887"
             ],
             [
              0.1111111111111111,
              "#46039f"
             ],
             [
              0.2222222222222222,
              "#7201a8"
             ],
             [
              0.3333333333333333,
              "#9c179e"
             ],
             [
              0.4444444444444444,
              "#bd3786"
             ],
             [
              0.5555555555555556,
              "#d8576b"
             ],
             [
              0.6666666666666666,
              "#ed7953"
             ],
             [
              0.7777777777777778,
              "#fb9f3a"
             ],
             [
              0.8888888888888888,
              "#fdca26"
             ],
             [
              1,
              "#f0f921"
             ]
            ],
            "type": "heatmap"
           }
          ],
          "heatmapgl": [
           {
            "colorbar": {
             "outlinewidth": 0,
             "ticks": ""
            },
            "colorscale": [
             [
              0,
              "#0d0887"
             ],
             [
              0.1111111111111111,
              "#46039f"
             ],
             [
              0.2222222222222222,
              "#7201a8"
             ],
             [
              0.3333333333333333,
              "#9c179e"
             ],
             [
              0.4444444444444444,
              "#bd3786"
             ],
             [
              0.5555555555555556,
              "#d8576b"
             ],
             [
              0.6666666666666666,
              "#ed7953"
             ],
             [
              0.7777777777777778,
              "#fb9f3a"
             ],
             [
              0.8888888888888888,
              "#fdca26"
             ],
             [
              1,
              "#f0f921"
             ]
            ],
            "type": "heatmapgl"
           }
          ],
          "histogram": [
           {
            "marker": {
             "pattern": {
              "fillmode": "overlay",
              "size": 10,
              "solidity": 0.2
             }
            },
            "type": "histogram"
           }
          ],
          "histogram2d": [
           {
            "colorbar": {
             "outlinewidth": 0,
             "ticks": ""
            },
            "colorscale": [
             [
              0,
              "#0d0887"
             ],
             [
              0.1111111111111111,
              "#46039f"
             ],
             [
              0.2222222222222222,
              "#7201a8"
             ],
             [
              0.3333333333333333,
              "#9c179e"
             ],
             [
              0.4444444444444444,
              "#bd3786"
             ],
             [
              0.5555555555555556,
              "#d8576b"
             ],
             [
              0.6666666666666666,
              "#ed7953"
             ],
             [
              0.7777777777777778,
              "#fb9f3a"
             ],
             [
              0.8888888888888888,
              "#fdca26"
             ],
             [
              1,
              "#f0f921"
             ]
            ],
            "type": "histogram2d"
           }
          ],
          "histogram2dcontour": [
           {
            "colorbar": {
             "outlinewidth": 0,
             "ticks": ""
            },
            "colorscale": [
             [
              0,
              "#0d0887"
             ],
             [
              0.1111111111111111,
              "#46039f"
             ],
             [
              0.2222222222222222,
              "#7201a8"
             ],
             [
              0.3333333333333333,
              "#9c179e"
             ],
             [
              0.4444444444444444,
              "#bd3786"
             ],
             [
              0.5555555555555556,
              "#d8576b"
             ],
             [
              0.6666666666666666,
              "#ed7953"
             ],
             [
              0.7777777777777778,
              "#fb9f3a"
             ],
             [
              0.8888888888888888,
              "#fdca26"
             ],
             [
              1,
              "#f0f921"
             ]
            ],
            "type": "histogram2dcontour"
           }
          ],
          "mesh3d": [
           {
            "colorbar": {
             "outlinewidth": 0,
             "ticks": ""
            },
            "type": "mesh3d"
           }
          ],
          "parcoords": [
           {
            "line": {
             "colorbar": {
              "outlinewidth": 0,
              "ticks": ""
             }
            },
            "type": "parcoords"
           }
          ],
          "pie": [
           {
            "automargin": true,
            "type": "pie"
           }
          ],
          "scatter": [
           {
            "fillpattern": {
             "fillmode": "overlay",
             "size": 10,
             "solidity": 0.2
            },
            "type": "scatter"
           }
          ],
          "scatter3d": [
           {
            "line": {
             "colorbar": {
              "outlinewidth": 0,
              "ticks": ""
             }
            },
            "marker": {
             "colorbar": {
              "outlinewidth": 0,
              "ticks": ""
             }
            },
            "type": "scatter3d"
           }
          ],
          "scattercarpet": [
           {
            "marker": {
             "colorbar": {
              "outlinewidth": 0,
              "ticks": ""
             }
            },
            "type": "scattercarpet"
           }
          ],
          "scattergeo": [
           {
            "marker": {
             "colorbar": {
              "outlinewidth": 0,
              "ticks": ""
             }
            },
            "type": "scattergeo"
           }
          ],
          "scattergl": [
           {
            "marker": {
             "colorbar": {
              "outlinewidth": 0,
              "ticks": ""
             }
            },
            "type": "scattergl"
           }
          ],
          "scattermapbox": [
           {
            "marker": {
             "colorbar": {
              "outlinewidth": 0,
              "ticks": ""
             }
            },
            "type": "scattermapbox"
           }
          ],
          "scatterpolar": [
           {
            "marker": {
             "colorbar": {
              "outlinewidth": 0,
              "ticks": ""
             }
            },
            "type": "scatterpolar"
           }
          ],
          "scatterpolargl": [
           {
            "marker": {
             "colorbar": {
              "outlinewidth": 0,
              "ticks": ""
             }
            },
            "type": "scatterpolargl"
           }
          ],
          "scatterternary": [
           {
            "marker": {
             "colorbar": {
              "outlinewidth": 0,
              "ticks": ""
             }
            },
            "type": "scatterternary"
           }
          ],
          "surface": [
           {
            "colorbar": {
             "outlinewidth": 0,
             "ticks": ""
            },
            "colorscale": [
             [
              0,
              "#0d0887"
             ],
             [
              0.1111111111111111,
              "#46039f"
             ],
             [
              0.2222222222222222,
              "#7201a8"
             ],
             [
              0.3333333333333333,
              "#9c179e"
             ],
             [
              0.4444444444444444,
              "#bd3786"
             ],
             [
              0.5555555555555556,
              "#d8576b"
             ],
             [
              0.6666666666666666,
              "#ed7953"
             ],
             [
              0.7777777777777778,
              "#fb9f3a"
             ],
             [
              0.8888888888888888,
              "#fdca26"
             ],
             [
              1,
              "#f0f921"
             ]
            ],
            "type": "surface"
           }
          ],
          "table": [
           {
            "cells": {
             "fill": {
              "color": "#EBF0F8"
             },
             "line": {
              "color": "white"
             }
            },
            "header": {
             "fill": {
              "color": "#C8D4E3"
             },
             "line": {
              "color": "white"
             }
            },
            "type": "table"
           }
          ]
         },
         "layout": {
          "annotationdefaults": {
           "arrowcolor": "#2a3f5f",
           "arrowhead": 0,
           "arrowwidth": 1
          },
          "autotypenumbers": "strict",
          "coloraxis": {
           "colorbar": {
            "outlinewidth": 0,
            "ticks": ""
           }
          },
          "colorscale": {
           "diverging": [
            [
             0,
             "#8e0152"
            ],
            [
             0.1,
             "#c51b7d"
            ],
            [
             0.2,
             "#de77ae"
            ],
            [
             0.3,
             "#f1b6da"
            ],
            [
             0.4,
             "#fde0ef"
            ],
            [
             0.5,
             "#f7f7f7"
            ],
            [
             0.6,
             "#e6f5d0"
            ],
            [
             0.7,
             "#b8e186"
            ],
            [
             0.8,
             "#7fbc41"
            ],
            [
             0.9,
             "#4d9221"
            ],
            [
             1,
             "#276419"
            ]
           ],
           "sequential": [
            [
             0,
             "#0d0887"
            ],
            [
             0.1111111111111111,
             "#46039f"
            ],
            [
             0.2222222222222222,
             "#7201a8"
            ],
            [
             0.3333333333333333,
             "#9c179e"
            ],
            [
             0.4444444444444444,
             "#bd3786"
            ],
            [
             0.5555555555555556,
             "#d8576b"
            ],
            [
             0.6666666666666666,
             "#ed7953"
            ],
            [
             0.7777777777777778,
             "#fb9f3a"
            ],
            [
             0.8888888888888888,
             "#fdca26"
            ],
            [
             1,
             "#f0f921"
            ]
           ],
           "sequentialminus": [
            [
             0,
             "#0d0887"
            ],
            [
             0.1111111111111111,
             "#46039f"
            ],
            [
             0.2222222222222222,
             "#7201a8"
            ],
            [
             0.3333333333333333,
             "#9c179e"
            ],
            [
             0.4444444444444444,
             "#bd3786"
            ],
            [
             0.5555555555555556,
             "#d8576b"
            ],
            [
             0.6666666666666666,
             "#ed7953"
            ],
            [
             0.7777777777777778,
             "#fb9f3a"
            ],
            [
             0.8888888888888888,
             "#fdca26"
            ],
            [
             1,
             "#f0f921"
            ]
           ]
          },
          "colorway": [
           "#636efa",
           "#EF553B",
           "#00cc96",
           "#ab63fa",
           "#FFA15A",
           "#19d3f3",
           "#FF6692",
           "#B6E880",
           "#FF97FF",
           "#FECB52"
          ],
          "font": {
           "color": "#2a3f5f"
          },
          "geo": {
           "bgcolor": "white",
           "lakecolor": "white",
           "landcolor": "#E5ECF6",
           "showlakes": true,
           "showland": true,
           "subunitcolor": "white"
          },
          "hoverlabel": {
           "align": "left"
          },
          "hovermode": "closest",
          "mapbox": {
           "style": "light"
          },
          "paper_bgcolor": "white",
          "plot_bgcolor": "#E5ECF6",
          "polar": {
           "angularaxis": {
            "gridcolor": "white",
            "linecolor": "white",
            "ticks": ""
           },
           "bgcolor": "#E5ECF6",
           "radialaxis": {
            "gridcolor": "white",
            "linecolor": "white",
            "ticks": ""
           }
          },
          "scene": {
           "xaxis": {
            "backgroundcolor": "#E5ECF6",
            "gridcolor": "white",
            "gridwidth": 2,
            "linecolor": "white",
            "showbackground": true,
            "ticks": "",
            "zerolinecolor": "white"
           },
           "yaxis": {
            "backgroundcolor": "#E5ECF6",
            "gridcolor": "white",
            "gridwidth": 2,
            "linecolor": "white",
            "showbackground": true,
            "ticks": "",
            "zerolinecolor": "white"
           },
           "zaxis": {
            "backgroundcolor": "#E5ECF6",
            "gridcolor": "white",
            "gridwidth": 2,
            "linecolor": "white",
            "showbackground": true,
            "ticks": "",
            "zerolinecolor": "white"
           }
          },
          "shapedefaults": {
           "line": {
            "color": "#2a3f5f"
           }
          },
          "ternary": {
           "aaxis": {
            "gridcolor": "white",
            "linecolor": "white",
            "ticks": ""
           },
           "baxis": {
            "gridcolor": "white",
            "linecolor": "white",
            "ticks": ""
           },
           "bgcolor": "#E5ECF6",
           "caxis": {
            "gridcolor": "white",
            "linecolor": "white",
            "ticks": ""
           }
          },
          "title": {
           "x": 0.05
          },
          "xaxis": {
           "automargin": true,
           "gridcolor": "white",
           "linecolor": "white",
           "ticks": "",
           "title": {
            "standoff": 15
           },
           "zerolinecolor": "white",
           "zerolinewidth": 2
          },
          "yaxis": {
           "automargin": true,
           "gridcolor": "white",
           "linecolor": "white",
           "ticks": "",
           "title": {
            "standoff": 15
           },
           "zerolinecolor": "white",
           "zerolinewidth": 2
          }
         }
        },
        "title": {
         "text": "Confirmed, Recovered, Deaths, Active cases over Time"
        },
        "xaxis": {
         "anchor": "y",
         "domain": [
          0,
          1
         ],
         "title": {
          "text": "price_itog"
         }
        },
        "yaxis": {
         "anchor": "x",
         "domain": [
          0,
          1
         ],
         "title": {
          "text": "Category_x"
         }
        }
       }
      }
     },
     "metadata": {},
     "output_type": "display_data"
    }
   ],
   "source": [
    "#line_data = company.groupby('brand_x', as_index=False)\n",
    "fig = px.box(\n",
    "    data_frame=company, #DataFrame\n",
    "    y='Category_x', #ось абсцисс\n",
    "    x='price_itog', #ось ординат\n",
    "    color='brand_x',\n",
    "    #height=500, #высота\n",
    "    #width=1000, #ширина\n",
    "    title='Confirmed, Recovered, Deaths, Active cases over Time' #заголовок\n",
    ")\n",
    "fig.show()"
   ]
  },
  {
   "cell_type": "code",
   "execution_count": 15,
   "metadata": {},
   "outputs": [
    {
     "data": {
      "text/plain": [
       "Text(0.5, 1.0, 'Cleaned Full Square Boxplot')"
      ]
     },
     "execution_count": 15,
     "metadata": {},
     "output_type": "execute_result"
    },
    {
     "data": {
      "image/png": "[encoded data removed]",
      "text/plain": [
       "<Figure size 1500x400 with 2 Axes>"
      ]
     },
     "metadata": {},
     "output_type": "display_data"
    }
   ],
   "source": [
    "fig, axes = plt.subplots(nrows=1, ncols=2, figsize=(15, 4))\n",
    "histplot = sns.histplot(data=cleaned, x='price_itog',y='Category_x', ax=axes[0]);\n",
    "histplot.set_title('Cleaned Full Square Distribution');\n",
    "boxplot = sns.boxplot(data=cleaned, x='price_itog',y='Category_x', ax=axes[1]);\n",
    "boxplot.set_title('Cleaned Full Square Boxplot')"
   ]
  },
  {
   "cell_type": "code",
   "execution_count": 16,
   "metadata": {},
   "outputs": [
    {
     "data": {
      "text/plain": [
       "count    75.000000\n",
       "mean      2.660000\n",
       "std      28.809968\n",
       "min     -41.980000\n",
       "25%     -18.865000\n",
       "50%      -3.700000\n",
       "75%      17.915000\n",
       "max      68.420000\n",
       "Name: price_itog, dtype: float64"
      ]
     },
     "execution_count": 16,
     "metadata": {},
     "output_type": "execute_result"
    }
   ],
   "source": [
    "company['price_itog'].describe()"
   ]
  },
  {
   "cell_type": "code",
   "execution_count": 31,
   "metadata": {},
   "outputs": [
    {
     "data": {
      "application/vnd.plotly.v1+json": {
       "config": {
        "plotlyServerURL": "https://plot.ly"
       },
       "data": [
        {
         "hovertemplate": "brand_x=%{x}<br>color_id=%{y}<br>price_itog=%{marker.color}<extra></extra>",
         "legendgroup": "",
         "marker": {
          "color": [
           -32.39,
           16.77,
           -21.37,
           17.37,
           63.4,
           -27.92,
           28.99,
           -38.87,
           -5.6,
           -30.2,
           -41.44,
           -5.2,
           68.42,
           9.28,
           -7.89,
           -2.89,
           44.33,
           12.7,
           -6.8,
           -39.72,
           35.45,
           -41.98,
           -11.58,
           4.04,
           47.06,
           6.48,
           14.89,
           14.47,
           18.37,
           8.54,
           -32.86,
           46.97,
           -29.79,
           -4.35,
           -33.98,
           10.19,
           -3.7,
           -3.82,
           62.84,
           17.65,
           -18.34,
           -16.39,
           33.33,
           8.12,
           -14.21,
           63.69,
           -8.81,
           29.17,
           -13.39,
           -36.25,
           21.25,
           -27.05,
           -23.55,
           -4.37,
           4.64,
           55.68,
           17.2,
           18.18,
           -28.97,
           33.74,
           38.89,
           -4.59,
           -31.03,
           -13.33,
           -11.02,
           60.38,
           -31.64,
           -7.07,
           8.97,
           18.34,
           -0.61,
           -19.39,
           -17.8,
           15.32,
           -25.45
          ],
          "coloraxis": "coloraxis",
          "symbol": "circle"
         },
         "mode": "markers",
         "name": "",
         "orientation": "v",
         "showlegend": false,
         "type": "scatter",
         "x": [
          "Valentino",
          "Valentino",
          "Valentino",
          "Valentino",
          "Valentino",
          "Valentino",
          "Valentino",
          "Valentino",
          "Valentino",
          "Valentino",
          "Valentino",
          "Valentino",
          "Valentino",
          "Valentino",
          "Valentino",
          "Valentino",
          "Valentino",
          "Valentino",
          "Valentino",
          "Valentino",
          "Valentino",
          "Valentino",
          "Valentino",
          "Valentino",
          "Valentino",
          "Brioni",
          "Brioni",
          "Brioni",
          "Brioni",
          "Brioni",
          "Brioni",
          "Brioni",
          "Brioni",
          "Brioni",
          "Brioni",
          "Brioni",
          "Brioni",
          "Brioni",
          "Brioni",
          "Brioni",
          "Brioni",
          "Brioni",
          "Brioni",
          "Brioni",
          "Brioni",
          "Brioni",
          "Brioni",
          "Brioni",
          "Brioni",
          "Brioni",
          "Stone Island",
          "Stone Island",
          "Stone Island",
          "Stone Island",
          "Stone Island",
          "Stone Island",
          "Stone Island",
          "Stone Island",
          "Stone Island",
          "Stone Island",
          "Stone Island",
          "Stone Island",
          "Stone Island",
          "Stone Island",
          "Stone Island",
          "Stone Island",
          "Stone Island",
          "Stone Island",
          "Stone Island",
          "Stone Island",
          "Stone Island",
          "Stone Island",
          "Stone Island",
          "Stone Island",
          "Stone Island"
         ],
         "xaxis": "x",
         "y": [
          "black",
          "black",
          "black",
          "black",
          "black",
          "black",
          "black",
          "white",
          "white",
          "white",
          "white",
          "white",
          "white",
          "white",
          "red",
          "red",
          "red",
          "red",
          "red",
          "red",
          "red",
          "red",
          "red",
          "red",
          "red",
          "black",
          "black",
          "black",
          "black",
          "black",
          "black",
          "black",
          "white",
          "white",
          "white",
          "white",
          "white",
          "white",
          "white",
          "red",
          "red",
          "red",
          "red",
          "red",
          "red",
          "red",
          "red",
          "red",
          "red",
          "red",
          "black",
          "black",
          "black",
          "black",
          "black",
          "black",
          "black",
          "white",
          "white",
          "white",
          "white",
          "white",
          "white",
          "white",
          "red",
          "red",
          "red",
          "red",
          "red",
          "red",
          "red",
          "red",
          "red",
          "red",
          "red"
         ],
         "yaxis": "y"
        }
       ],
       "layout": {
        "coloraxis": {
         "colorbar": {
          "title": {
           "text": "price_itog"
          }
         },
         "colorscale": [
          [
           0,
           "#0d0887"
          ],
          [
           0.1111111111111111,
           "#46039f"
          ],
          [
           0.2222222222222222,
           "#7201a8"
          ],
          [
           0.3333333333333333,
           "#9c179e"
          ],
          [
           0.4444444444444444,
           "#bd3786"
          ],
          [
           0.5555555555555556,
           "#d8576b"
          ],
          [
           0.6666666666666666,
           "#ed7953"
          ],
          [
           0.7777777777777778,
           "#fb9f3a"
          ],
          [
           0.8888888888888888,
           "#fdca26"
          ],
          [
           1,
           "#f0f921"
          ]
         ]
        },
        "legend": {
         "tracegroupgap": 0
        },
        "template": {
         "data": {
          "bar": [
           {
            "error_x": {
             "color": "#2a3f5f"
            },
            "error_y": {
             "color": "#2a3f5f"
            },
            "marker": {
             "line": {
              "color": "#E5ECF6",
              "width": 0.5
             },
             "pattern": {
              "fillmode": "overlay",
              "size": 10,
              "solidity": 0.2
             }
            },
            "type": "bar"
           }
          ],
          "barpolar": [
           {
            "marker": {
             "line": {
              "color": "#E5ECF6",
              "width": 0.5
             },
             "pattern": {
              "fillmode": "overlay",
              "size": 10,
              "solidity": 0.2
             }
            },
            "type": "barpolar"
           }
          ],
          "carpet": [
           {
            "aaxis": {
             "endlinecolor": "#2a3f5f",
             "gridcolor": "white",
             "linecolor": "white",
             "minorgridcolor": "white",
             "startlinecolor": "#2a3f5f"
            },
            "baxis": {
             "endlinecolor": "#2a3f5f",
             "gridcolor": "white",
             "linecolor": "white",
             "minorgridcolor": "white",
             "startlinecolor": "#2a3f5f"
            },
            "type": "carpet"
           }
          ],
          "choropleth": [
           {
            "colorbar": {
             "outlinewidth": 0,
             "ticks": ""
            },
            "type": "choropleth"
           }
          ],
          "contour": [
           {
            "colorbar": {
             "outlinewidth": 0,
             "ticks": ""
            },
            "colorscale": [
             [
              0,
              "#0d0887"
             ],
             [
              0.1111111111111111,
              "#46039f"
             ],
             [
              0.2222222222222222,
              "#7201a8"
             ],
             [
              0.3333333333333333,
              "#9c179e"
             ],
             [
              0.4444444444444444,
              "#bd3786"
             ],
             [
              0.5555555555555556,
              "#d8576b"
             ],
             [
              0.6666666666666666,
              "#ed7953"
             ],
             [
              0.7777777777777778,
              "#fb9f3a"
             ],
             [
              0.8888888888888888,
              "#fdca26"
             ],
             [
              1,
              "#f0f921"
             ]
            ],
            "type": "contour"
           }
          ],
          "contourcarpet": [
           {
            "colorbar": {
             "outlinewidth": 0,
             "ticks": ""
            },
            "type": "contourcarpet"
           }
          ],
          "heatmap": [
           {
            "colorbar": {
             "outlinewidth": 0,
             "ticks": ""
            },
            "colorscale": [
             [
              0,
              "#0d0887"
             ],
             [
              0.1111111111111111,
              "#46039f"
             ],
             [
              0.2222222222222222,
              "#7201a8"
             ],
             [
              0.3333333333333333,
              "#9c179e"
             ],
             [
              0.4444444444444444,
              "#bd3786"
             ],
             [
              0.5555555555555556,
              "#d8576b"
             ],
             [
              0.6666666666666666,
              "#ed7953"
             ],
             [
              0.7777777777777778,
              "#fb9f3a"
             ],
             [
              0.8888888888888888,
              "#fdca26"
             ],
             [
              1,
              "#f0f921"
             ]
            ],
            "type": "heatmap"
           }
          ],
          "heatmapgl": [
           {
            "colorbar": {
             "outlinewidth": 0,
             "ticks": ""
            },
            "colorscale": [
             [
              0,
              "#0d0887"
             ],
             [
              0.1111111111111111,
              "#46039f"
             ],
             [
              0.2222222222222222,
              "#7201a8"
             ],
             [
              0.3333333333333333,
              "#9c179e"
             ],
             [
              0.4444444444444444,
              "#bd3786"
             ],
             [
              0.5555555555555556,
              "#d8576b"
             ],
             [
              0.6666666666666666,
              "#ed7953"
             ],
             [
              0.7777777777777778,
              "#fb9f3a"
             ],
             [
              0.8888888888888888,
              "#fdca26"
             ],
             [
              1,
              "#f0f921"
             ]
            ],
            "type": "heatmapgl"
           }
          ],
          "histogram": [
           {
            "marker": {
             "pattern": {
              "fillmode": "overlay",
              "size": 10,
              "solidity": 0.2
             }
            },
            "type": "histogram"
           }
          ],
          "histogram2d": [
           {
            "colorbar": {
             "outlinewidth": 0,
             "ticks": ""
            },
            "colorscale": [
             [
              0,
              "#0d0887"
             ],
             [
              0.1111111111111111,
              "#46039f"
             ],
             [
              0.2222222222222222,
              "#7201a8"
             ],
             [
              0.3333333333333333,
              "#9c179e"
             ],
             [
              0.4444444444444444,
              "#bd3786"
             ],
             [
              0.5555555555555556,
              "#d8576b"
             ],
             [
              0.6666666666666666,
              "#ed7953"
             ],
             [
              0.7777777777777778,
              "#fb9f3a"
             ],
             [
              0.8888888888888888,
              "#fdca26"
             ],
             [
              1,
              "#f0f921"
             ]
            ],
            "type": "histogram2d"
           }
          ],
          "histogram2dcontour": [
           {
            "colorbar": {
             "outlinewidth": 0,
             "ticks": ""
            },
            "colorscale": [
             [
              0,
              "#0d0887"
             ],
             [
              0.1111111111111111,
              "#46039f"
             ],
             [
              0.2222222222222222,
              "#7201a8"
             ],
             [
              0.3333333333333333,
              "#9c179e"
             ],
             [
              0.4444444444444444,
              "#bd3786"
             ],
             [
              0.5555555555555556,
              "#d8576b"
             ],
             [
              0.6666666666666666,
              "#ed7953"
             ],
             [
              0.7777777777777778,
              "#fb9f3a"
             ],
             [
              0.8888888888888888,
              "#fdca26"
             ],
             [
              1,
              "#f0f921"
             ]
            ],
            "type": "histogram2dcontour"
           }
          ],
          "mesh3d": [
           {
            "colorbar": {
             "outlinewidth": 0,
             "ticks": ""
            },
            "type": "mesh3d"
           }
          ],
          "parcoords": [
           {
            "line": {
             "colorbar": {
              "outlinewidth": 0,
              "ticks": ""
             }
            },
            "type": "parcoords"
           }
          ],
          "pie": [
           {
            "automargin": true,
            "type": "pie"
           }
          ],
          "scatter": [
           {
            "fillpattern": {
             "fillmode": "overlay",
             "size": 10,
             "solidity": 0.2
            },
            "type": "scatter"
           }
          ],
          "scatter3d": [
           {
            "line": {
             "colorbar": {
              "outlinewidth": 0,
              "ticks": ""
             }
            },
            "marker": {
             "colorbar": {
              "outlinewidth": 0,
              "ticks": ""
             }
            },
            "type": "scatter3d"
           }
          ],
          "scattercarpet": [
           {
            "marker": {
             "colorbar": {
              "outlinewidth": 0,
              "ticks": ""
             }
            },
            "type": "scattercarpet"
           }
          ],
          "scattergeo": [
           {
            "marker": {
             "colorbar": {
              "outlinewidth": 0,
              "ticks": ""
             }
            },
            "type": "scattergeo"
           }
          ],
          "scattergl": [
           {
            "marker": {
             "colorbar": {
              "outlinewidth": 0,
              "ticks": ""
             }
            },
            "type": "scattergl"
           }
          ],
          "scattermapbox": [
           {
            "marker": {
             "colorbar": {
              "outlinewidth": 0,
              "ticks": ""
             }
            },
            "type": "scattermapbox"
           }
          ],
          "scatterpolar": [
           {
            "marker": {
             "colorbar": {
              "outlinewidth": 0,
              "ticks": ""
             }
            },
            "type": "scatterpolar"
           }
          ],
          "scatterpolargl": [
           {
            "marker": {
             "colorbar": {
              "outlinewidth": 0,
              "ticks": ""
             }
            },
            "type": "scatterpolargl"
           }
          ],
          "scatterternary": [
           {
            "marker": {
             "colorbar": {
              "outlinewidth": 0,
              "ticks": ""
             }
            },
            "type": "scatterternary"
           }
          ],
          "surface": [
           {
            "colorbar": {
             "outlinewidth": 0,
             "ticks": ""
            },
            "colorscale": [
             [
              0,
              "#0d0887"
             ],
             [
              0.1111111111111111,
              "#46039f"
             ],
             [
              0.2222222222222222,
              "#7201a8"
             ],
             [
              0.3333333333333333,
              "#9c179e"
             ],
             [
              0.4444444444444444,
              "#bd3786"
             ],
             [
              0.5555555555555556,
              "#d8576b"
             ],
             [
              0.6666666666666666,
              "#ed7953"
             ],
             [
              0.7777777777777778,
              "#fb9f3a"
             ],
             [
              0.8888888888888888,
              "#fdca26"
             ],
             [
              1,
              "#f0f921"
             ]
            ],
            "type": "surface"
           }
          ],
          "table": [
           {
            "cells": {
             "fill": {
              "color": "#EBF0F8"
             },
             "line": {
              "color": "white"
             }
            },
            "header": {
             "fill": {
              "color": "#C8D4E3"
             },
             "line": {
              "color": "white"
             }
            },
            "type": "table"
           }
          ]
         },
         "layout": {
          "annotationdefaults": {
           "arrowcolor": "#2a3f5f",
           "arrowhead": 0,
           "arrowwidth": 1
          },
          "autotypenumbers": "strict",
          "coloraxis": {
           "colorbar": {
            "outlinewidth": 0,
            "ticks": ""
           }
          },
          "colorscale": {
           "diverging": [
            [
             0,
             "#8e0152"
            ],
            [
             0.1,
             "#c51b7d"
            ],
            [
             0.2,
             "#de77ae"
            ],
            [
             0.3,
             "#f1b6da"
            ],
            [
             0.4,
             "#fde0ef"
            ],
            [
             0.5,
             "#f7f7f7"
            ],
            [
             0.6,
             "#e6f5d0"
            ],
            [
             0.7,
             "#b8e186"
            ],
            [
             0.8,
             "#7fbc41"
            ],
            [
             0.9,
             "#4d9221"
            ],
            [
             1,
             "#276419"
            ]
           ],
           "sequential": [
            [
             0,
             "#0d0887"
            ],
            [
             0.1111111111111111,
             "#46039f"
            ],
            [
             0.2222222222222222,
             "#7201a8"
            ],
            [
             0.3333333333333333,
             "#9c179e"
            ],
            [
             0.4444444444444444,
             "#bd3786"
            ],
            [
             0.5555555555555556,
             "#d8576b"
            ],
            [
             0.6666666666666666,
             "#ed7953"
            ],
            [
             0.7777777777777778,
             "#fb9f3a"
            ],
            [
             0.8888888888888888,
             "#fdca26"
            ],
            [
             1,
             "#f0f921"
            ]
           ],
           "sequentialminus": [
            [
             0,
             "#0d0887"
            ],
            [
             0.1111111111111111,
             "#46039f"
            ],
            [
             0.2222222222222222,
             "#7201a8"
            ],
            [
             0.3333333333333333,
             "#9c179e"
            ],
            [
             0.4444444444444444,
             "#bd3786"
            ],
            [
             0.5555555555555556,
             "#d8576b"
            ],
            [
             0.6666666666666666,
             "#ed7953"
            ],
            [
             0.7777777777777778,
             "#fb9f3a"
            ],
            [
             0.8888888888888888,
             "#fdca26"
            ],
            [
             1,
             "#f0f921"
            ]
           ]
          },
          "colorway": [
           "#636efa",
           "#EF553B",
           "#00cc96",
           "#ab63fa",
           "#FFA15A",
           "#19d3f3",
           "#FF6692",
           "#B6E880",
           "#FF97FF",
           "#FECB52"
          ],
          "font": {
           "color": "#2a3f5f"
          },
          "geo": {
           "bgcolor": "white",
           "lakecolor": "white",
           "landcolor": "#E5ECF6",
           "showlakes": true,
           "showland": true,
           "subunitcolor": "white"
          },
          "hoverlabel": {
           "align": "left"
          },
          "hovermode": "closest",
          "mapbox": {
           "style": "light"
          },
          "paper_bgcolor": "white",
          "plot_bgcolor": "#E5ECF6",
          "polar": {
           "angularaxis": {
            "gridcolor": "white",
            "linecolor": "white",
            "ticks": ""
           },
           "bgcolor": "#E5ECF6",
           "radialaxis": {
            "gridcolor": "white",
            "linecolor": "white",
            "ticks": ""
           }
          },
          "scene": {
           "xaxis": {
            "backgroundcolor": "#E5ECF6",
            "gridcolor": "white",
            "gridwidth": 2,
            "linecolor": "white",
            "showbackground": true,
            "ticks": "",
            "zerolinecolor": "white"
           },
           "yaxis": {
            "backgroundcolor": "#E5ECF6",
            "gridcolor": "white",
            "gridwidth": 2,
            "linecolor": "white",
            "showbackground": true,
            "ticks": "",
            "zerolinecolor": "white"
           },
           "zaxis": {
            "backgroundcolor": "#E5ECF6",
            "gridcolor": "white",
            "gridwidth": 2,
            "linecolor": "white",
            "showbackground": true,
            "ticks": "",
            "zerolinecolor": "white"
           }
          },
          "shapedefaults": {
           "line": {
            "color": "#2a3f5f"
           }
          },
          "ternary": {
           "aaxis": {
            "gridcolor": "white",
            "linecolor": "white",
            "ticks": ""
           },
           "baxis": {
            "gridcolor": "white",
            "linecolor": "white",
            "ticks": ""
           },
           "bgcolor": "#E5ECF6",
           "caxis": {
            "gridcolor": "white",
            "linecolor": "white",
            "ticks": ""
           }
          },
          "title": {
           "x": 0.05
          },
          "xaxis": {
           "automargin": true,
           "gridcolor": "white",
           "linecolor": "white",
           "ticks": "",
           "title": {
            "standoff": 15
           },
           "zerolinecolor": "white",
           "zerolinewidth": 2
          },
          "yaxis": {
           "automargin": true,
           "gridcolor": "white",
           "linecolor": "white",
           "ticks": "",
           "title": {
            "standoff": 15
           },
           "zerolinecolor": "white",
           "zerolinewidth": 2
          }
         }
        },
        "title": {
         "text": "Confirmed, Recovered, Deaths, Active cases over Time"
        },
        "xaxis": {
         "anchor": "y",
         "domain": [
          0,
          1
         ],
         "title": {
          "text": "brand_x"
         }
        },
        "yaxis": {
         "anchor": "x",
         "domain": [
          0,
          1
         ],
         "title": {
          "text": "color_id"
         }
        }
       }
      }
     },
     "metadata": {},
     "output_type": "display_data"
    }
   ],
   "source": [
    "fig = px.scatter(\n",
    "    data_frame=company, #DataFrame\n",
    "    y='color_id', #ось абсцисс\n",
    "    x='brand_x', #ось ординат\n",
    "    \n",
    "    color='price_itog',\n",
    "    #height=500, #высота\n",
    "    #width=1000, #ширина\n",
    "    title='Confirmed, Recovered, Deaths, Active cases over Time' #заголовок\n",
    ")\n",
    "fig.show()"
   ]
  }
 ],
 "metadata": {
  "kernelspec": {
   "display_name": "Python 3",
   "language": "python",
   "name": "python3"
  },
  "language_info": {
   "codemirror_mode": {
    "name": "ipython",
    "version": 3
   },
   "file_extension": ".py",
   "mimetype": "text/x-python",
   "name": "python",
   "nbconvert_exporter": "python",
   "pygments_lexer": "ipython3",
   "version": "3.9.13"
  },
  "orig_nbformat": 4
 },
 "nbformat": 4,
 "nbformat_minor": 2
}
